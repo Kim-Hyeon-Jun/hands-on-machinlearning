{
 "metadata": {
  "language_info": {
   "codemirror_mode": {
    "name": "ipython",
    "version": 3
   },
   "file_extension": ".py",
   "mimetype": "text/x-python",
   "name": "python",
   "nbconvert_exporter": "python",
   "pygments_lexer": "ipython3",
   "version": "3.8.5"
  },
  "orig_nbformat": 2,
  "kernelspec": {
   "name": "python385jvsc74a57bd0e134e05457d34029b6460cd73bbf1ed73f339b5b6d98c95be70b69eba114fe95",
   "display_name": "Python 3.8.5 64-bit ('base': conda)"
  }
 },
 "nbformat": 4,
 "nbformat_minor": 2,
 "cells": [
  {
   "cell_type": "code",
   "execution_count": 5,
   "metadata": {},
   "outputs": [],
   "source": [
    "from sklearn.datasets import fetch_openml\n",
    "mnist = fetch_openml('mnist_784',version=1)\n",
    "mnist.keys()"
   ]
  },
  {
   "cell_type": "code",
   "execution_count": 8,
   "metadata": {},
   "outputs": [
    {
     "output_type": "stream",
     "name": "stdout",
     "text": [
      "(70000, 784) (70000,)\n"
     ]
    }
   ],
   "source": [
    "X, y = mnist['data'], mnist['target']\n",
    "print(X.shape, y.shape)"
   ]
  },
  {
   "cell_type": "code",
   "execution_count": 11,
   "metadata": {},
   "outputs": [
    {
     "output_type": "display_data",
     "data": {
      "text/plain": "<Figure size 432x288 with 1 Axes>",
      "image/svg+xml": "<?xml version=\"1.0\" encoding=\"utf-8\" standalone=\"no\"?>\n<!DOCTYPE svg PUBLIC \"-//W3C//DTD SVG 1.1//EN\"\n  \"http://www.w3.org/Graphics/SVG/1.1/DTD/svg11.dtd\">\n<!-- Created with matplotlib (https://matplotlib.org/) -->\n<svg height=\"231.84pt\" version=\"1.1\" viewBox=\"0 0 231.84 231.84\" width=\"231.84pt\" xmlns=\"http://www.w3.org/2000/svg\" xmlns:xlink=\"http://www.w3.org/1999/xlink\">\n <metadata>\n  <rdf:RDF xmlns:cc=\"http://creativecommons.org/ns#\" xmlns:dc=\"http://purl.org/dc/elements/1.1/\" xmlns:rdf=\"http://www.w3.org/1999/02/22-rdf-syntax-ns#\">\n   <cc:Work>\n    <dc:type rdf:resource=\"http://purl.org/dc/dcmitype/StillImage\"/>\n    <dc:date>2021-06-16T15:40:53.024930</dc:date>\n    <dc:format>image/svg+xml</dc:format>\n    <dc:creator>\n     <cc:Agent>\n      <dc:title>Matplotlib v3.3.2, https://matplotlib.org/</dc:title>\n     </cc:Agent>\n    </dc:creator>\n   </cc:Work>\n  </rdf:RDF>\n </metadata>\n <defs>\n  <style type=\"text/css\">*{stroke-linecap:butt;stroke-linejoin:round;}</style>\n </defs>\n <g id=\"figure_1\">\n  <g id=\"patch_1\">\n   <path d=\"M 0 231.84 \nL 231.84 231.84 \nL 231.84 0 \nL 0 0 \nz\n\" style=\"fill:none;\"/>\n  </g>\n  <g id=\"axes_1\">\n   <g clip-path=\"url(#pee92120ea2)\">\n    <image height=\"218\" id=\"image026440ec9a\" transform=\"scale(1 -1)translate(0 -218)\" width=\"218\" x=\"7.2\" xlink:href=\"data:image/png;base64,\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\" y=\"-6.64\"/>\n   </g>\n  </g>\n </g>\n <defs>\n  <clipPath id=\"pee92120ea2\">\n   <rect height=\"217.44\" width=\"217.44\" x=\"7.2\" y=\"7.2\"/>\n  </clipPath>\n </defs>\n</svg>\n",
      "image/png": "[encoded data removed]"
     },
     "metadata": {
      "needs_background": "light"
     }
    }
   ],
   "source": [
    "import matplotlib as mpl\n",
    "import matplotlib.pyplot as plt\n",
    "\n",
    "some_digit = X[0]\n",
    "some_digit_image = some_digit.reshape(28,28)\n",
    "\n",
    "plt.imshow(some_digit_image, cmap='binary')\n",
    "plt.axis('off')\n",
    "plt.show()\n"
   ]
  },
  {
   "cell_type": "code",
   "execution_count": 4,
   "metadata": {},
   "outputs": [
    {
     "output_type": "execute_result",
     "data": {
      "text/plain": [
       "'5'"
      ]
     },
     "metadata": {},
     "execution_count": 4
    }
   ],
   "source": [
    "y[0]"
   ]
  },
  {
   "cell_type": "code",
   "execution_count": 6,
   "metadata": {},
   "outputs": [],
   "source": [
    "import numpy as np\n",
    "import pandas as pd\n",
    "\n",
    "y = y.astype(np.uint8)"
   ]
  },
  {
   "cell_type": "code",
   "execution_count": 9,
   "metadata": {},
   "outputs": [],
   "source": [
    "# 항상 데이터를 자세히 조사하기 전에 테스트 세트 따로 만들어두기\n",
    "\n",
    "X_train, X_test, y_train, y_test = X[:60000], X[60000:], y[:60000], y[60000:]"
   ]
  },
  {
   "cell_type": "code",
   "execution_count": 8,
   "metadata": {},
   "outputs": [],
   "source": [
    "y_train_5 = (y_train == 5)\n",
    "y_test_5 = (y_test == 5)"
   ]
  },
  {
   "cell_type": "code",
   "execution_count": 9,
   "metadata": {},
   "outputs": [
    {
     "output_type": "execute_result",
     "data": {
      "text/plain": [
       "SGDClassifier(random_state=42)"
      ]
     },
     "metadata": {},
     "execution_count": 9
    }
   ],
   "source": [
    "from sklearn.linear_model import SGDClassifier\n",
    "\n",
    "sgd_clf = SGDClassifier(random_state=42)\n",
    "sgd_clf.fit(X_train, y_train_5)"
   ]
  },
  {
   "cell_type": "code",
   "execution_count": 10,
   "metadata": {},
   "outputs": [
    {
     "output_type": "execute_result",
     "data": {
      "text/plain": [
       "array([ True])"
      ]
     },
     "metadata": {},
     "execution_count": 10
    }
   ],
   "source": [
    "sgd_clf.predict([some_digit])"
   ]
  },
  {
   "cell_type": "code",
   "execution_count": 13,
   "metadata": {},
   "outputs": [
    {
     "output_type": "stream",
     "name": "stdout",
     "text": [
      "0.9669\n",
      "0.91625\n",
      "0.96785\n"
     ]
    }
   ],
   "source": [
    "from sklearn.model_selection import StratifiedKFold\n",
    "from sklearn.base import clone\n",
    "\n",
    "skfolds = StratifiedKFold(n_splits=3, random_state=42, shuffle=True)\n",
    "\n",
    "for train_index, test_index in skfolds.split(X_train, y_train_5):\n",
    "    clone_clf = clone(sgd_clf)\n",
    "    X_train_folds = X_train[train_index]\n",
    "    y_train_folds = y_train_5[train_index]\n",
    "    X_test_fold = X_train[test_index]\n",
    "    y_test_fold = y_train_5[test_index]\n",
    "\n",
    "    clone_clf.fit(X_train_folds, y_train_folds)\n",
    "    y_pred = clone_clf.predict(X_test_fold)\n",
    "    n_correct = sum(y_pred == y_test_fold)\n",
    "    print(n_correct/len(y_pred))\n",
    "\n",
    "\n"
   ]
  },
  {
   "cell_type": "code",
   "execution_count": 14,
   "metadata": {},
   "outputs": [
    {
     "output_type": "execute_result",
     "data": {
      "text/plain": [
       "array([0.95035, 0.96035, 0.9604 ])"
      ]
     },
     "metadata": {},
     "execution_count": 14
    }
   ],
   "source": [
    "from sklearn.model_selection import cross_val_score\n",
    "\n",
    "cross_val_score(sgd_clf, X_train, y_train_5, cv=3, scoring='accuracy')\n"
   ]
  },
  {
   "cell_type": "code",
   "execution_count": 15,
   "metadata": {},
   "outputs": [],
   "source": [
    "from sklearn.base import BaseEstimator\n",
    "\n",
    "class Never5Classifier(BaseEstimator):\n",
    "    def fit(self, X, y=None):\n",
    "        return self\n",
    "    def predict(self, X):\n",
    "        return np.zeros((len(X), 1), dtype=bool)\n"
   ]
  },
  {
   "cell_type": "code",
   "execution_count": 16,
   "metadata": {},
   "outputs": [
    {
     "output_type": "execute_result",
     "data": {
      "text/plain": [
       "array([0.91125, 0.90855, 0.90915])"
      ]
     },
     "metadata": {},
     "execution_count": 16
    }
   ],
   "source": [
    "never_5_clf = Never5Classifier()\n",
    "cross_val_score(never_5_clf, X_train, y_train_5, cv = 3, scoring='accuracy')"
   ]
  },
  {
   "cell_type": "code",
   "execution_count": 17,
   "metadata": {},
   "outputs": [],
   "source": [
    "# confusion matrix 오차 행렬을 이용하여 분류기의 성능 평가\n",
    "\n",
    "from sklearn.model_selection import cross_val_predict\n",
    "\n",
    "y_train_pred = cross_val_predict(sgd_clf, X_train, y_train_5, cv = 3)\n"
   ]
  },
  {
   "cell_type": "code",
   "execution_count": 18,
   "metadata": {},
   "outputs": [
    {
     "output_type": "execute_result",
     "data": {
      "text/plain": [
       "array([[53892,   687],\n",
       "       [ 1891,  3530]])"
      ]
     },
     "metadata": {},
     "execution_count": 18
    }
   ],
   "source": [
    "from sklearn.metrics import confusion_matrix\n",
    "confusion_matrix(y_train_5, y_train_pred)\n",
    "# true negative, false positive"
   ]
  },
  {
   "source": [
    "정밀도 : TP/(TP+FP) 양성중 실제 양성비율 : precision score\n",
    "\n",
    "\n",
    "재현율 : TP/(TP+FN) 양성중 찾아낸 비율  : recall score"
   ],
   "cell_type": "markdown",
   "metadata": {}
  },
  {
   "cell_type": "code",
   "execution_count": 21,
   "metadata": {},
   "outputs": [
    {
     "output_type": "stream",
     "name": "stdout",
     "text": [
      "0.8370879772350012\n0.6511713705958311\n"
     ]
    }
   ],
   "source": [
    "# 정밀도와 재현율\n",
    "\n",
    "from sklearn.metrics import precision_score, recall_score\n",
    "print(precision_score(y_train_5, y_train_pred))\n",
    "print(recall_score(y_train_5, y_train_pred))\n"
   ]
  },
  {
   "cell_type": "code",
   "execution_count": 25,
   "metadata": {},
   "outputs": [
    {
     "output_type": "execute_result",
     "data": {
      "text/plain": [
       "0.7325171197343846"
      ]
     },
     "metadata": {},
     "execution_count": 25
    }
   ],
   "source": [
    "# 정밀도와 재현율을 둘다 고려한 조화평균 F\n",
    "\n",
    "from sklearn.metrics import f1_score\n",
    "\n",
    "f1_score(y_train_5, y_train_pred)\n",
    "\n"
   ]
  },
  {
   "cell_type": "code",
   "execution_count": 27,
   "metadata": {},
   "outputs": [
    {
     "output_type": "execute_result",
     "data": {
      "text/plain": [
       "array([2164.22030239])"
      ]
     },
     "metadata": {},
     "execution_count": 27
    }
   ],
   "source": [
    "# 사이킷런에서 임계값을 직접 지정할 수는 없지만 예측에 사용한 점수는 확인 가능 => 그것을 이용하여 원하는 임곗값을 정해 예측을 만들 수 있음\n",
    "\n",
    "y_scores = sgd_clf.decision_function([some_digit])\n",
    "y_scores"
   ]
  },
  {
   "cell_type": "code",
   "execution_count": 29,
   "metadata": {},
   "outputs": [
    {
     "output_type": "execute_result",
     "data": {
      "text/plain": [
       "array([ True])"
      ]
     },
     "metadata": {},
     "execution_count": 29
    }
   ],
   "source": [
    "threshold = 0\n",
    "y_some_digit_pred = (y_scores > threshold)\n",
    "y_some_digit_pred"
   ]
  },
  {
   "cell_type": "code",
   "execution_count": 30,
   "metadata": {},
   "outputs": [],
   "source": [
    "# 적절한 임계값을 구하기 \n",
    "# predict은 bool값 반환, decision_function은 결점 점수 반환\n",
    "\n",
    "y_scores = cross_val_predict(sgd_clf, X_train, y_train_5, cv = 3, method='decision_function')\n"
   ]
  },
  {
   "cell_type": "code",
   "execution_count": 31,
   "metadata": {},
   "outputs": [],
   "source": [
    "from sklearn.metrics import precision_recall_curve\n",
    "precisions, recalls, thresholds = precision_recall_curve(y_train_5, y_scores) "
   ]
  },
  {
   "cell_type": "code",
   "execution_count": 40,
   "metadata": {},
   "outputs": [],
   "source": [
    "# 맷플롯립을 이용해 그래프 그려보기\n",
    "\n",
    "def plot_precision_recall_vs_threshold(precisions, recalls, thresholds):\n",
    "    plt.plot(thresholds, precisions[:-1], 'b--', label = 'precision')\n",
    "    plt.plot(thresholds, recalls[:-1], 'g--', label = ' recall')\n",
    "    plt.legend(loc='center right', fontsize = 16)\n",
    "    plt.xlabel('Threshold', fontsize = 16)\n",
    "    plt.grid(True)\n",
    "    plt.axis([-50000, 50000, 0 , 1])\n"
   ]
  },
  {
   "cell_type": "code",
   "execution_count": 41,
   "metadata": {},
   "outputs": [
    {
     "output_type": "display_data",
     "data": {
      "text/plain": "<Figure size 576x288 with 1 Axes>",
      "image/svg+xml": "<?xml version=\"1.0\" encoding=\"utf-8\" standalone=\"no\"?>\n<!DOCTYPE svg PUBLIC \"-//W3C//DTD SVG 1.1//EN\"\n  \"http://www.w3.org/Graphics/SVG/1.1/DTD/svg11.dtd\">\n<!-- Created with matplotlib (https://matplotlib.org/) -->\n<svg height=\"271.802344pt\" version=\"1.1\" viewBox=\"0 0 483.703125 271.802344\" width=\"483.703125pt\" xmlns=\"http://www.w3.org/2000/svg\" xmlns:xlink=\"http://www.w3.org/1999/xlink\">\n <metadata>\n  <rdf:RDF xmlns:cc=\"http://creativecommons.org/ns#\" xmlns:dc=\"http://purl.org/dc/elements/1.1/\" xmlns:rdf=\"http://www.w3.org/1999/02/22-rdf-syntax-ns#\">\n   <cc:Work>\n    <dc:type rdf:resource=\"http://purl.org/dc/dcmitype/StillImage\"/>\n    <dc:date>2021-06-16T13:28:02.595758</dc:date>\n    <dc:format>image/svg+xml</dc:format>\n    <dc:creator>\n     <cc:Agent>\n      <dc:title>Matplotlib v3.3.2, https://matplotlib.org/</dc:title>\n     </cc:Agent>\n    </dc:creator>\n   </cc:Work>\n  </rdf:RDF>\n </metadata>\n <defs>\n  <style type=\"text/css\">*{stroke-linecap:butt;stroke-linejoin:round;}</style>\n </defs>\n <g id=\"figure_1\">\n  <g id=\"patch_1\">\n   <path d=\"M 0 271.802344 \nL 483.703125 271.802344 \nL 483.703125 0 \nL 0 0 \nz\n\" style=\"fill:none;\"/>\n  </g>\n  <g id=\"axes_1\">\n   <g id=\"patch_2\">\n    <path d=\"M 30.103125 228.439219 \nL 476.503125 228.439219 \nL 476.503125 10.999219 \nL 30.103125 10.999219 \nz\n\" style=\"fill:#ffffff;\"/>\n   </g>\n   <g id=\"matplotlib.axis_1\">\n    <g id=\"xtick_1\">\n     <g id=\"line2d_1\">\n      <path clip-path=\"url(#pde61d3f3bd)\" d=\"M 74.743125 228.439219 \nL 74.743125 10.999219 \n\" style=\"fill:none;stroke:#b0b0b0;stroke-linecap:square;stroke-width:0.8;\"/>\n     </g>\n     <g id=\"line2d_2\">\n      <defs>\n       <path d=\"M 0 0 \nL 0 3.5 \n\" id=\"m199b3c2ab7\" style=\"stroke:#000000;stroke-width:0.8;\"/>\n      </defs>\n      <g>\n       <use style=\"stroke:#000000;stroke-width:0.8;\" x=\"74.743125\" xlink:href=\"#m199b3c2ab7\" y=\"228.439219\"/>\n      </g>\n     </g>\n     <g id=\"text_1\">\n      <!-- −40000 -->\n      <g transform=\"translate(54.647031 243.037656)scale(0.1 -0.1)\">\n       <defs>\n        <path d=\"M 10.59375 35.5 \nL 73.1875 35.5 \nL 73.1875 27.203125 \nL 10.59375 27.203125 \nz\n\" id=\"DejaVuSans-8722\"/>\n        <path d=\"M 37.796875 64.3125 \nL 12.890625 25.390625 \nL 37.796875 25.390625 \nz\nM 35.203125 72.90625 \nL 47.609375 72.90625 \nL 47.609375 25.390625 \nL 58.015625 25.390625 \nL 58.015625 17.1875 \nL 47.609375 17.1875 \nL 47.609375 0 \nL 37.796875 0 \nL 37.796875 17.1875 \nL 4.890625 17.1875 \nL 4.890625 26.703125 \nz\n\" id=\"DejaVuSans-52\"/>\n        <path d=\"M 31.78125 66.40625 \nQ 24.171875 66.40625 20.328125 58.90625 \nQ 16.5 51.421875 16.5 36.375 \nQ 16.5 21.390625 20.328125 13.890625 \nQ 24.171875 6.390625 31.78125 6.390625 \nQ 39.453125 6.390625 43.28125 13.890625 \nQ 47.125 21.390625 47.125 36.375 \nQ 47.125 51.421875 43.28125 58.90625 \nQ 39.453125 66.40625 31.78125 66.40625 \nz\nM 31.78125 74.21875 \nQ 44.046875 74.21875 50.515625 64.515625 \nQ 56.984375 54.828125 56.984375 36.375 \nQ 56.984375 17.96875 50.515625 8.265625 \nQ 44.046875 -1.421875 31.78125 -1.421875 \nQ 19.53125 -1.421875 13.0625 8.265625 \nQ 6.59375 17.96875 6.59375 36.375 \nQ 6.59375 54.828125 13.0625 64.515625 \nQ 19.53125 74.21875 31.78125 74.21875 \nz\n\" id=\"DejaVuSans-48\"/>\n       </defs>\n       <use xlink:href=\"#DejaVuSans-8722\"/>\n       <use x=\"83.789062\" xlink:href=\"#DejaVuSans-52\"/>\n       <use x=\"147.412109\" xlink:href=\"#DejaVuSans-48\"/>\n       <use x=\"211.035156\" xlink:href=\"#DejaVuSans-48\"/>\n       <use x=\"274.658203\" xlink:href=\"#DejaVuSans-48\"/>\n       <use x=\"338.28125\" xlink:href=\"#DejaVuSans-48\"/>\n      </g>\n     </g>\n    </g>\n    <g id=\"xtick_2\">\n     <g id=\"line2d_3\">\n      <path clip-path=\"url(#pde61d3f3bd)\" d=\"M 164.023125 228.439219 \nL 164.023125 10.999219 \n\" style=\"fill:none;stroke:#b0b0b0;stroke-linecap:square;stroke-width:0.8;\"/>\n     </g>\n     <g id=\"line2d_4\">\n      <g>\n       <use style=\"stroke:#000000;stroke-width:0.8;\" x=\"164.023125\" xlink:href=\"#m199b3c2ab7\" y=\"228.439219\"/>\n      </g>\n     </g>\n     <g id=\"text_2\">\n      <!-- −20000 -->\n      <g transform=\"translate(143.927031 243.037656)scale(0.1 -0.1)\">\n       <defs>\n        <path d=\"M 19.1875 8.296875 \nL 53.609375 8.296875 \nL 53.609375 0 \nL 7.328125 0 \nL 7.328125 8.296875 \nQ 12.9375 14.109375 22.625 23.890625 \nQ 32.328125 33.6875 34.8125 36.53125 \nQ 39.546875 41.84375 41.421875 45.53125 \nQ 43.3125 49.21875 43.3125 52.78125 \nQ 43.3125 58.59375 39.234375 62.25 \nQ 35.15625 65.921875 28.609375 65.921875 \nQ 23.96875 65.921875 18.8125 64.3125 \nQ 13.671875 62.703125 7.8125 59.421875 \nL 7.8125 69.390625 \nQ 13.765625 71.78125 18.9375 73 \nQ 24.125 74.21875 28.421875 74.21875 \nQ 39.75 74.21875 46.484375 68.546875 \nQ 53.21875 62.890625 53.21875 53.421875 \nQ 53.21875 48.921875 51.53125 44.890625 \nQ 49.859375 40.875 45.40625 35.40625 \nQ 44.1875 33.984375 37.640625 27.21875 \nQ 31.109375 20.453125 19.1875 8.296875 \nz\n\" id=\"DejaVuSans-50\"/>\n       </defs>\n       <use xlink:href=\"#DejaVuSans-8722\"/>\n       <use x=\"83.789062\" xlink:href=\"#DejaVuSans-50\"/>\n       <use x=\"147.412109\" xlink:href=\"#DejaVuSans-48\"/>\n       <use x=\"211.035156\" xlink:href=\"#DejaVuSans-48\"/>\n       <use x=\"274.658203\" xlink:href=\"#DejaVuSans-48\"/>\n       <use x=\"338.28125\" xlink:href=\"#DejaVuSans-48\"/>\n      </g>\n     </g>\n    </g>\n    <g id=\"xtick_3\">\n     <g id=\"line2d_5\">\n      <path clip-path=\"url(#pde61d3f3bd)\" d=\"M 253.303125 228.439219 \nL 253.303125 10.999219 \n\" style=\"fill:none;stroke:#b0b0b0;stroke-linecap:square;stroke-width:0.8;\"/>\n     </g>\n     <g id=\"line2d_6\">\n      <g>\n       <use style=\"stroke:#000000;stroke-width:0.8;\" x=\"253.303125\" xlink:href=\"#m199b3c2ab7\" y=\"228.439219\"/>\n      </g>\n     </g>\n     <g id=\"text_3\">\n      <!-- 0 -->\n      <g transform=\"translate(250.121875 243.037656)scale(0.1 -0.1)\">\n       <use xlink:href=\"#DejaVuSans-48\"/>\n      </g>\n     </g>\n    </g>\n    <g id=\"xtick_4\">\n     <g id=\"line2d_7\">\n      <path clip-path=\"url(#pde61d3f3bd)\" d=\"M 342.583125 228.439219 \nL 342.583125 10.999219 \n\" style=\"fill:none;stroke:#b0b0b0;stroke-linecap:square;stroke-width:0.8;\"/>\n     </g>\n     <g id=\"line2d_8\">\n      <g>\n       <use style=\"stroke:#000000;stroke-width:0.8;\" x=\"342.583125\" xlink:href=\"#m199b3c2ab7\" y=\"228.439219\"/>\n      </g>\n     </g>\n     <g id=\"text_4\">\n      <!-- 20000 -->\n      <g transform=\"translate(326.676875 243.037656)scale(0.1 -0.1)\">\n       <use xlink:href=\"#DejaVuSans-50\"/>\n       <use x=\"63.623047\" xlink:href=\"#DejaVuSans-48\"/>\n       <use x=\"127.246094\" xlink:href=\"#DejaVuSans-48\"/>\n       <use x=\"190.869141\" xlink:href=\"#DejaVuSans-48\"/>\n       <use x=\"254.492188\" xlink:href=\"#DejaVuSans-48\"/>\n      </g>\n     </g>\n    </g>\n    <g id=\"xtick_5\">\n     <g id=\"line2d_9\">\n      <path clip-path=\"url(#pde61d3f3bd)\" d=\"M 431.863125 228.439219 \nL 431.863125 10.999219 \n\" style=\"fill:none;stroke:#b0b0b0;stroke-linecap:square;stroke-width:0.8;\"/>\n     </g>\n     <g id=\"line2d_10\">\n      <g>\n       <use style=\"stroke:#000000;stroke-width:0.8;\" x=\"431.863125\" xlink:href=\"#m199b3c2ab7\" y=\"228.439219\"/>\n      </g>\n     </g>\n     <g id=\"text_5\">\n      <!-- 40000 -->\n      <g transform=\"translate(415.956875 243.037656)scale(0.1 -0.1)\">\n       <use xlink:href=\"#DejaVuSans-52\"/>\n       <use x=\"63.623047\" xlink:href=\"#DejaVuSans-48\"/>\n       <use x=\"127.246094\" xlink:href=\"#DejaVuSans-48\"/>\n       <use x=\"190.869141\" xlink:href=\"#DejaVuSans-48\"/>\n       <use x=\"254.492188\" xlink:href=\"#DejaVuSans-48\"/>\n      </g>\n     </g>\n    </g>\n    <g id=\"text_6\">\n     <!-- Threshold -->\n     <g transform=\"translate(213.881875 261.274844)scale(0.16 -0.16)\">\n      <defs>\n       <path d=\"M -0.296875 72.90625 \nL 61.375 72.90625 \nL 61.375 64.59375 \nL 35.5 64.59375 \nL 35.5 0 \nL 25.59375 0 \nL 25.59375 64.59375 \nL -0.296875 64.59375 \nz\n\" id=\"DejaVuSans-84\"/>\n       <path d=\"M 54.890625 33.015625 \nL 54.890625 0 \nL 45.90625 0 \nL 45.90625 32.71875 \nQ 45.90625 40.484375 42.875 44.328125 \nQ 39.84375 48.1875 33.796875 48.1875 \nQ 26.515625 48.1875 22.3125 43.546875 \nQ 18.109375 38.921875 18.109375 30.90625 \nL 18.109375 0 \nL 9.078125 0 \nL 9.078125 75.984375 \nL 18.109375 75.984375 \nL 18.109375 46.1875 \nQ 21.34375 51.125 25.703125 53.5625 \nQ 30.078125 56 35.796875 56 \nQ 45.21875 56 50.046875 50.171875 \nQ 54.890625 44.34375 54.890625 33.015625 \nz\n\" id=\"DejaVuSans-104\"/>\n       <path d=\"M 41.109375 46.296875 \nQ 39.59375 47.171875 37.8125 47.578125 \nQ 36.03125 48 33.890625 48 \nQ 26.265625 48 22.1875 43.046875 \nQ 18.109375 38.09375 18.109375 28.8125 \nL 18.109375 0 \nL 9.078125 0 \nL 9.078125 54.6875 \nL 18.109375 54.6875 \nL 18.109375 46.1875 \nQ 20.953125 51.171875 25.484375 53.578125 \nQ 30.03125 56 36.53125 56 \nQ 37.453125 56 38.578125 55.875 \nQ 39.703125 55.765625 41.0625 55.515625 \nz\n\" id=\"DejaVuSans-114\"/>\n       <path d=\"M 56.203125 29.59375 \nL 56.203125 25.203125 \nL 14.890625 25.203125 \nQ 15.484375 15.921875 20.484375 11.0625 \nQ 25.484375 6.203125 34.421875 6.203125 \nQ 39.59375 6.203125 44.453125 7.46875 \nQ 49.3125 8.734375 54.109375 11.28125 \nL 54.109375 2.78125 \nQ 49.265625 0.734375 44.1875 -0.34375 \nQ 39.109375 -1.421875 33.890625 -1.421875 \nQ 20.796875 -1.421875 13.15625 6.1875 \nQ 5.515625 13.8125 5.515625 26.8125 \nQ 5.515625 40.234375 12.765625 48.109375 \nQ 20.015625 56 32.328125 56 \nQ 43.359375 56 49.78125 48.890625 \nQ 56.203125 41.796875 56.203125 29.59375 \nz\nM 47.21875 32.234375 \nQ 47.125 39.59375 43.09375 43.984375 \nQ 39.0625 48.390625 32.421875 48.390625 \nQ 24.90625 48.390625 20.390625 44.140625 \nQ 15.875 39.890625 15.1875 32.171875 \nz\n\" id=\"DejaVuSans-101\"/>\n       <path d=\"M 44.28125 53.078125 \nL 44.28125 44.578125 \nQ 40.484375 46.53125 36.375 47.5 \nQ 32.28125 48.484375 27.875 48.484375 \nQ 21.1875 48.484375 17.84375 46.4375 \nQ 14.5 44.390625 14.5 40.28125 \nQ 14.5 37.15625 16.890625 35.375 \nQ 19.28125 33.59375 26.515625 31.984375 \nL 29.59375 31.296875 \nQ 39.15625 29.25 43.1875 25.515625 \nQ 47.21875 21.78125 47.21875 15.09375 \nQ 47.21875 7.46875 41.1875 3.015625 \nQ 35.15625 -1.421875 24.609375 -1.421875 \nQ 20.21875 -1.421875 15.453125 -0.5625 \nQ 10.6875 0.296875 5.421875 2 \nL 5.421875 11.28125 \nQ 10.40625 8.6875 15.234375 7.390625 \nQ 20.0625 6.109375 24.8125 6.109375 \nQ 31.15625 6.109375 34.5625 8.28125 \nQ 37.984375 10.453125 37.984375 14.40625 \nQ 37.984375 18.0625 35.515625 20.015625 \nQ 33.0625 21.96875 24.703125 23.78125 \nL 21.578125 24.515625 \nQ 13.234375 26.265625 9.515625 29.90625 \nQ 5.8125 33.546875 5.8125 39.890625 \nQ 5.8125 47.609375 11.28125 51.796875 \nQ 16.75 56 26.8125 56 \nQ 31.78125 56 36.171875 55.265625 \nQ 40.578125 54.546875 44.28125 53.078125 \nz\n\" id=\"DejaVuSans-115\"/>\n       <path d=\"M 30.609375 48.390625 \nQ 23.390625 48.390625 19.1875 42.75 \nQ 14.984375 37.109375 14.984375 27.296875 \nQ 14.984375 17.484375 19.15625 11.84375 \nQ 23.34375 6.203125 30.609375 6.203125 \nQ 37.796875 6.203125 41.984375 11.859375 \nQ 46.1875 17.53125 46.1875 27.296875 \nQ 46.1875 37.015625 41.984375 42.703125 \nQ 37.796875 48.390625 30.609375 48.390625 \nz\nM 30.609375 56 \nQ 42.328125 56 49.015625 48.375 \nQ 55.71875 40.765625 55.71875 27.296875 \nQ 55.71875 13.875 49.015625 6.21875 \nQ 42.328125 -1.421875 30.609375 -1.421875 \nQ 18.84375 -1.421875 12.171875 6.21875 \nQ 5.515625 13.875 5.515625 27.296875 \nQ 5.515625 40.765625 12.171875 48.375 \nQ 18.84375 56 30.609375 56 \nz\n\" id=\"DejaVuSans-111\"/>\n       <path d=\"M 9.421875 75.984375 \nL 18.40625 75.984375 \nL 18.40625 0 \nL 9.421875 0 \nz\n\" id=\"DejaVuSans-108\"/>\n       <path d=\"M 45.40625 46.390625 \nL 45.40625 75.984375 \nL 54.390625 75.984375 \nL 54.390625 0 \nL 45.40625 0 \nL 45.40625 8.203125 \nQ 42.578125 3.328125 38.25 0.953125 \nQ 33.9375 -1.421875 27.875 -1.421875 \nQ 17.96875 -1.421875 11.734375 6.484375 \nQ 5.515625 14.40625 5.515625 27.296875 \nQ 5.515625 40.1875 11.734375 48.09375 \nQ 17.96875 56 27.875 56 \nQ 33.9375 56 38.25 53.625 \nQ 42.578125 51.265625 45.40625 46.390625 \nz\nM 14.796875 27.296875 \nQ 14.796875 17.390625 18.875 11.75 \nQ 22.953125 6.109375 30.078125 6.109375 \nQ 37.203125 6.109375 41.296875 11.75 \nQ 45.40625 17.390625 45.40625 27.296875 \nQ 45.40625 37.203125 41.296875 42.84375 \nQ 37.203125 48.484375 30.078125 48.484375 \nQ 22.953125 48.484375 18.875 42.84375 \nQ 14.796875 37.203125 14.796875 27.296875 \nz\n\" id=\"DejaVuSans-100\"/>\n      </defs>\n      <use xlink:href=\"#DejaVuSans-84\"/>\n      <use x=\"61.083984\" xlink:href=\"#DejaVuSans-104\"/>\n      <use x=\"124.462891\" xlink:href=\"#DejaVuSans-114\"/>\n      <use x=\"163.326172\" xlink:href=\"#DejaVuSans-101\"/>\n      <use x=\"224.849609\" xlink:href=\"#DejaVuSans-115\"/>\n      <use x=\"276.949219\" xlink:href=\"#DejaVuSans-104\"/>\n      <use x=\"340.328125\" xlink:href=\"#DejaVuSans-111\"/>\n      <use x=\"401.509766\" xlink:href=\"#DejaVuSans-108\"/>\n      <use x=\"429.292969\" xlink:href=\"#DejaVuSans-100\"/>\n     </g>\n    </g>\n   </g>\n   <g id=\"matplotlib.axis_2\">\n    <g id=\"ytick_1\">\n     <g id=\"line2d_11\">\n      <path clip-path=\"url(#pde61d3f3bd)\" d=\"M 30.103125 228.439219 \nL 476.503125 228.439219 \n\" style=\"fill:none;stroke:#b0b0b0;stroke-linecap:square;stroke-width:0.8;\"/>\n     </g>\n     <g id=\"line2d_12\">\n      <defs>\n       <path d=\"M 0 0 \nL -3.5 0 \n\" id=\"ma0406d3c63\" style=\"stroke:#000000;stroke-width:0.8;\"/>\n      </defs>\n      <g>\n       <use style=\"stroke:#000000;stroke-width:0.8;\" x=\"30.103125\" xlink:href=\"#ma0406d3c63\" y=\"228.439219\"/>\n      </g>\n     </g>\n     <g id=\"text_7\">\n      <!-- 0.0 -->\n      <g transform=\"translate(7.2 232.238438)scale(0.1 -0.1)\">\n       <defs>\n        <path d=\"M 10.6875 12.40625 \nL 21 12.40625 \nL 21 0 \nL 10.6875 0 \nz\n\" id=\"DejaVuSans-46\"/>\n       </defs>\n       <use xlink:href=\"#DejaVuSans-48\"/>\n       <use x=\"63.623047\" xlink:href=\"#DejaVuSans-46\"/>\n       <use x=\"95.410156\" xlink:href=\"#DejaVuSans-48\"/>\n      </g>\n     </g>\n    </g>\n    <g id=\"ytick_2\">\n     <g id=\"line2d_13\">\n      <path clip-path=\"url(#pde61d3f3bd)\" d=\"M 30.103125 184.951219 \nL 476.503125 184.951219 \n\" style=\"fill:none;stroke:#b0b0b0;stroke-linecap:square;stroke-width:0.8;\"/>\n     </g>\n     <g id=\"line2d_14\">\n      <g>\n       <use style=\"stroke:#000000;stroke-width:0.8;\" x=\"30.103125\" xlink:href=\"#ma0406d3c63\" y=\"184.951219\"/>\n      </g>\n     </g>\n     <g id=\"text_8\">\n      <!-- 0.2 -->\n      <g transform=\"translate(7.2 188.750438)scale(0.1 -0.1)\">\n       <use xlink:href=\"#DejaVuSans-48\"/>\n       <use x=\"63.623047\" xlink:href=\"#DejaVuSans-46\"/>\n       <use x=\"95.410156\" xlink:href=\"#DejaVuSans-50\"/>\n      </g>\n     </g>\n    </g>\n    <g id=\"ytick_3\">\n     <g id=\"line2d_15\">\n      <path clip-path=\"url(#pde61d3f3bd)\" d=\"M 30.103125 141.463219 \nL 476.503125 141.463219 \n\" style=\"fill:none;stroke:#b0b0b0;stroke-linecap:square;stroke-width:0.8;\"/>\n     </g>\n     <g id=\"line2d_16\">\n      <g>\n       <use style=\"stroke:#000000;stroke-width:0.8;\" x=\"30.103125\" xlink:href=\"#ma0406d3c63\" y=\"141.463219\"/>\n      </g>\n     </g>\n     <g id=\"text_9\">\n      <!-- 0.4 -->\n      <g transform=\"translate(7.2 145.262438)scale(0.1 -0.1)\">\n       <use xlink:href=\"#DejaVuSans-48\"/>\n       <use x=\"63.623047\" xlink:href=\"#DejaVuSans-46\"/>\n       <use x=\"95.410156\" xlink:href=\"#DejaVuSans-52\"/>\n      </g>\n     </g>\n    </g>\n    <g id=\"ytick_4\">\n     <g id=\"line2d_17\">\n      <path clip-path=\"url(#pde61d3f3bd)\" d=\"M 30.103125 97.975219 \nL 476.503125 97.975219 \n\" style=\"fill:none;stroke:#b0b0b0;stroke-linecap:square;stroke-width:0.8;\"/>\n     </g>\n     <g id=\"line2d_18\">\n      <g>\n       <use style=\"stroke:#000000;stroke-width:0.8;\" x=\"30.103125\" xlink:href=\"#ma0406d3c63\" y=\"97.975219\"/>\n      </g>\n     </g>\n     <g id=\"text_10\">\n      <!-- 0.6 -->\n      <g transform=\"translate(7.2 101.774438)scale(0.1 -0.1)\">\n       <defs>\n        <path d=\"M 33.015625 40.375 \nQ 26.375 40.375 22.484375 35.828125 \nQ 18.609375 31.296875 18.609375 23.390625 \nQ 18.609375 15.53125 22.484375 10.953125 \nQ 26.375 6.390625 33.015625 6.390625 \nQ 39.65625 6.390625 43.53125 10.953125 \nQ 47.40625 15.53125 47.40625 23.390625 \nQ 47.40625 31.296875 43.53125 35.828125 \nQ 39.65625 40.375 33.015625 40.375 \nz\nM 52.59375 71.296875 \nL 52.59375 62.3125 \nQ 48.875 64.0625 45.09375 64.984375 \nQ 41.3125 65.921875 37.59375 65.921875 \nQ 27.828125 65.921875 22.671875 59.328125 \nQ 17.53125 52.734375 16.796875 39.40625 \nQ 19.671875 43.65625 24.015625 45.921875 \nQ 28.375 48.1875 33.59375 48.1875 \nQ 44.578125 48.1875 50.953125 41.515625 \nQ 57.328125 34.859375 57.328125 23.390625 \nQ 57.328125 12.15625 50.6875 5.359375 \nQ 44.046875 -1.421875 33.015625 -1.421875 \nQ 20.359375 -1.421875 13.671875 8.265625 \nQ 6.984375 17.96875 6.984375 36.375 \nQ 6.984375 53.65625 15.1875 63.9375 \nQ 23.390625 74.21875 37.203125 74.21875 \nQ 40.921875 74.21875 44.703125 73.484375 \nQ 48.484375 72.75 52.59375 71.296875 \nz\n\" id=\"DejaVuSans-54\"/>\n       </defs>\n       <use xlink:href=\"#DejaVuSans-48\"/>\n       <use x=\"63.623047\" xlink:href=\"#DejaVuSans-46\"/>\n       <use x=\"95.410156\" xlink:href=\"#DejaVuSans-54\"/>\n      </g>\n     </g>\n    </g>\n    <g id=\"ytick_5\">\n     <g id=\"line2d_19\">\n      <path clip-path=\"url(#pde61d3f3bd)\" d=\"M 30.103125 54.487219 \nL 476.503125 54.487219 \n\" style=\"fill:none;stroke:#b0b0b0;stroke-linecap:square;stroke-width:0.8;\"/>\n     </g>\n     <g id=\"line2d_20\">\n      <g>\n       <use style=\"stroke:#000000;stroke-width:0.8;\" x=\"30.103125\" xlink:href=\"#ma0406d3c63\" y=\"54.487219\"/>\n      </g>\n     </g>\n     <g id=\"text_11\">\n      <!-- 0.8 -->\n      <g transform=\"translate(7.2 58.286438)scale(0.1 -0.1)\">\n       <defs>\n        <path d=\"M 31.78125 34.625 \nQ 24.75 34.625 20.71875 30.859375 \nQ 16.703125 27.09375 16.703125 20.515625 \nQ 16.703125 13.921875 20.71875 10.15625 \nQ 24.75 6.390625 31.78125 6.390625 \nQ 38.8125 6.390625 42.859375 10.171875 \nQ 46.921875 13.96875 46.921875 20.515625 \nQ 46.921875 27.09375 42.890625 30.859375 \nQ 38.875 34.625 31.78125 34.625 \nz\nM 21.921875 38.8125 \nQ 15.578125 40.375 12.03125 44.71875 \nQ 8.5 49.078125 8.5 55.328125 \nQ 8.5 64.0625 14.71875 69.140625 \nQ 20.953125 74.21875 31.78125 74.21875 \nQ 42.671875 74.21875 48.875 69.140625 \nQ 55.078125 64.0625 55.078125 55.328125 \nQ 55.078125 49.078125 51.53125 44.71875 \nQ 48 40.375 41.703125 38.8125 \nQ 48.828125 37.15625 52.796875 32.3125 \nQ 56.78125 27.484375 56.78125 20.515625 \nQ 56.78125 9.90625 50.3125 4.234375 \nQ 43.84375 -1.421875 31.78125 -1.421875 \nQ 19.734375 -1.421875 13.25 4.234375 \nQ 6.78125 9.90625 6.78125 20.515625 \nQ 6.78125 27.484375 10.78125 32.3125 \nQ 14.796875 37.15625 21.921875 38.8125 \nz\nM 18.3125 54.390625 \nQ 18.3125 48.734375 21.84375 45.5625 \nQ 25.390625 42.390625 31.78125 42.390625 \nQ 38.140625 42.390625 41.71875 45.5625 \nQ 45.3125 48.734375 45.3125 54.390625 \nQ 45.3125 60.0625 41.71875 63.234375 \nQ 38.140625 66.40625 31.78125 66.40625 \nQ 25.390625 66.40625 21.84375 63.234375 \nQ 18.3125 60.0625 18.3125 54.390625 \nz\n\" id=\"DejaVuSans-56\"/>\n       </defs>\n       <use xlink:href=\"#DejaVuSans-48\"/>\n       <use x=\"63.623047\" xlink:href=\"#DejaVuSans-46\"/>\n       <use x=\"95.410156\" xlink:href=\"#DejaVuSans-56\"/>\n      </g>\n     </g>\n    </g>\n    <g id=\"ytick_6\">\n     <g id=\"line2d_21\">\n      <path clip-path=\"url(#pde61d3f3bd)\" d=\"M 30.103125 10.999219 \nL 476.503125 10.999219 \n\" style=\"fill:none;stroke:#b0b0b0;stroke-linecap:square;stroke-width:0.8;\"/>\n     </g>\n     <g id=\"line2d_22\">\n      <g>\n       <use style=\"stroke:#000000;stroke-width:0.8;\" x=\"30.103125\" xlink:href=\"#ma0406d3c63\" y=\"10.999219\"/>\n      </g>\n     </g>\n     <g id=\"text_12\">\n      <!-- 1.0 -->\n      <g transform=\"translate(7.2 14.798438)scale(0.1 -0.1)\">\n       <defs>\n        <path d=\"M 12.40625 8.296875 \nL 28.515625 8.296875 \nL 28.515625 63.921875 \nL 10.984375 60.40625 \nL 10.984375 69.390625 \nL 28.421875 72.90625 \nL 38.28125 72.90625 \nL 38.28125 8.296875 \nL 54.390625 8.296875 \nL 54.390625 0 \nL 12.40625 0 \nz\n\" id=\"DejaVuSans-49\"/>\n       </defs>\n       <use xlink:href=\"#DejaVuSans-49\"/>\n       <use x=\"63.623047\" xlink:href=\"#DejaVuSans-46\"/>\n       <use x=\"95.410156\" xlink:href=\"#DejaVuSans-48\"/>\n      </g>\n     </g>\n    </g>\n   </g>\n   <g id=\"line2d_23\">\n    <path clip-path=\"url(#pde61d3f3bd)\" d=\"M 30.027681 208.326734 \nL 42.638058 208.194844 \nL 43.635357 208.178113 \nL 50.115754 208.088062 \nL 66.06677 207.816358 \nL 66.367381 207.81057 \nL 75.194501 207.597942 \nL 75.617288 207.584634 \nL 83.150596 207.383939 \nL 84.613168 207.339804 \nL 88.318603 207.208776 \nL 88.610383 207.196483 \nL 92.919644 207.026446 \nL 97.676468 206.801862 \nL 100.683293 206.662928 \nL 106.957101 206.32765 \nL 107.074036 206.318051 \nL 109.680823 206.137044 \nL 118.313754 205.517866 \nL 118.474374 205.5026 \nL 121.0837 205.283237 \nL 123.955123 205.030367 \nL 125.323057 204.890076 \nL 127.645194 204.659482 \nL 129.045234 204.476261 \nL 129.229918 204.449716 \nL 130.953989 204.223184 \nL 131.121408 204.198572 \nL 137.048458 203.415548 \nL 137.233835 203.39248 \nL 138.707382 203.176168 \nL 142.202922 202.576205 \nL 142.438846 202.537774 \nL 144.722691 202.12192 \nL 145.113406 202.050678 \nL 145.947814 201.892232 \nL 146.742412 201.718504 \nL 147.45885 201.565906 \nL 147.766677 201.499528 \nL 148.656484 201.310408 \nL 148.819557 201.278832 \nL 149.649537 201.098051 \nL 149.765702 201.072395 \nL 150.66278 200.86214 \nL 150.864704 200.815122 \nL 151.505874 200.669686 \nL 151.782527 200.603411 \nL 152.45687 200.43214 \nL 152.700766 200.376874 \nL 155.949823 199.538863 \nL 156.109293 199.491496 \nL 156.336087 199.429542 \nL 157.131423 199.209454 \nL 157.416395 199.137319 \nL 158.477424 198.829521 \nL 159.715978 198.438606 \nL 160.168945 198.290212 \nL 161.394267 197.874033 \nL 161.531895 197.823374 \nL 163.482552 197.152341 \nL 163.896425 197.007636 \nL 164.106136 196.917201 \nL 164.657905 196.707075 \nL 165.758618 196.287176 \nL 165.888201 196.21494 \nL 167.152748 195.700056 \nL 167.495889 195.541529 \nL 167.613814 195.493951 \nL 169.916931 194.476943 \nL 170.023382 194.433555 \nL 170.531159 194.194729 \nL 171.204432 193.877846 \nL 171.580766 193.70171 \nL 176.15841 191.257391 \nL 176.293091 191.180592 \nL 176.753738 190.880695 \nL 182.023368 187.209972 \nL 182.182121 187.074029 \nL 182.467034 186.871419 \nL 182.689742 186.728709 \nL 183.68624 185.965213 \nL 184.015269 185.734264 \nL 184.321762 185.4781 \nL 184.75034 185.122914 \nL 184.896499 185.01025 \nL 185.492253 184.499878 \nL 185.749349 184.273934 \nL 186.000578 184.030154 \nL 186.456628 183.595925 \nL 186.82104 183.261536 \nL 187.021538 183.08495 \nL 187.24053 182.903713 \nL 189.739037 180.438176 \nL 189.953447 180.232751 \nL 189.965023 180.235806 \nL 190.035318 180.168964 \nL 190.041705 180.164907 \nL 190.243665 179.94785 \nL 192.374339 177.629526 \nL 192.498744 177.498345 \nL 192.629803 177.33912 \nL 192.86158 177.022813 \nL 197.503306 171.163945 \nL 197.764596 170.789103 \nL 197.899445 170.542371 \nL 198.024062 170.389274 \nL 198.206721 170.177036 \nL 198.439352 169.850626 \nL 198.562747 169.660691 \nL 200.277443 167.039264 \nL 200.386715 166.848954 \nL 200.536991 166.547787 \nL 200.676036 166.313504 \nL 200.834212 166.137448 \nL 200.938344 165.95177 \nL 201.341199 165.325952 \nL 201.346872 165.339649 \nL 201.481428 165.081155 \nL 201.696583 164.695392 \nL 201.840371 164.489172 \nL 201.953779 164.260403 \nL 202.312767 163.669857 \nL 202.891693 162.670878 \nL 203.062508 162.335522 \nL 203.330042 161.905813 \nL 203.447886 161.677257 \nL 203.626176 161.385298 \nL 203.740027 161.182106 \nL 203.741557 161.183042 \nL 203.927365 160.902519 \nL 205.669643 157.861186 \nL 205.902024 157.371107 \nL 205.902732 157.380395 \nL 206.001065 157.25441 \nL 206.003625 157.263711 \nL 206.566793 156.07647 \nL 206.680188 155.883949 \nL 207.56189 154.114747 \nL 207.670987 153.895835 \nL 207.828456 153.529912 \nL 207.834193 153.534455 \nL 208.538445 151.963514 \nL 208.654637 151.750316 \nL 209.805629 149.475632 \nL 209.866445 149.33348 \nL 210.070734 148.865166 \nL 210.192462 148.577045 \nL 210.378158 148.138165 \nL 214.262093 138.612715 \nL 214.462745 137.996238 \nL 214.738649 137.174597 \nL 214.808505 137.018473 \nL 216.218259 133.530493 \nL 216.606184 132.554884 \nL 216.60656 132.565595 \nL 216.707809 132.307446 \nL 218.916266 126.53027 \nL 219.022404 126.173953 \nL 219.362974 125.393106 \nL 219.584064 124.821526 \nL 219.792307 124.241751 \nL 219.795237 124.252733 \nL 220.584697 121.923441 \nL 220.809073 121.178694 \nL 221.322791 119.730273 \nL 223.297437 114.630098 \nL 223.403367 114.267946 \nL 223.413117 114.279106 \nL 223.459714 114.165556 \nL 223.617779 113.75807 \nL 223.662686 113.60816 \nL 223.825811 113.087192 \nL 223.843995 113.098373 \nL 223.870111 112.997219 \nL 223.873295 112.995745 \nL 224.128404 112.131306 \nL 224.800522 110.268508 \nL 224.839256 110.277584 \nL 224.864819 110.170735 \nL 225.033635 109.6402 \nL 225.175734 109.226734 \nL 225.312073 108.817351 \nL 225.52552 107.970788 \nL 225.539605 107.99316 \nL 225.559771 107.840134 \nL 225.564547 107.85132 \nL 225.78394 107.136178 \nL 225.898101 106.787541 \nL 226.18472 105.870026 \nL 226.432664 105.317683 \nL 226.569165 104.904938 \nL 226.88272 104.083465 \nL 226.884609 104.094631 \nL 226.962532 103.956451 \nL 227.095939 103.592157 \nL 227.371478 102.568238 \nL 227.374555 102.579394 \nL 227.390469 102.586378 \nL 227.413762 102.448179 \nL 227.56134 102.018756 \nL 227.708503 101.617045 \nL 227.712272 101.628189 \nL 227.88403 101.28368 \nL 228.099462 100.469678 \nL 228.246855 100.183806 \nL 228.738817 98.80094 \nL 228.739198 98.812056 \nL 228.830497 98.769117 \nL 228.835558 98.752676 \nL 230.272013 94.691806 \nL 230.285278 94.696248 \nL 230.288336 94.707301 \nL 230.338533 94.506074 \nL 230.345004 94.517123 \nL 230.557279 93.770066 \nL 230.835398 93.057002 \nL 230.994979 92.616174 \nL 230.99673 92.62718 \nL 231.066707 92.366519 \nL 231.179955 92.126507 \nL 232.229071 89.321283 \nL 232.441093 88.636743 \nL 232.464295 88.647641 \nL 232.530625 88.470814 \nL 232.70938 88.191952 \nL 232.720184 88.204841 \nL 232.781391 87.990635 \nL 232.781698 88.001528 \nL 232.906907 87.648286 \nL 233.055539 87.363552 \nL 233.056954 87.374438 \nL 233.133203 87.326616 \nL 233.137819 87.306477 \nL 234.214238 84.054457 \nL 234.232255 84.075937 \nL 234.321281 83.884851 \nL 234.430128 83.639715 \nL 234.435801 83.65044 \nL 234.459801 83.661249 \nL 234.684405 83.102336 \nL 234.704102 83.112886 \nL 234.723934 83.004789 \nL 240.08346 69.260834 \nL 240.085739 69.270887 \nL 240.08852 69.280945 \nL 240.17068 69.183682 \nL 240.319804 68.857495 \nL 240.328625 68.867532 \nL 240.352544 68.766748 \nL 240.430982 68.509015 \nL 241.1191 67.138833 \nL 241.125924 67.158709 \nL 241.17542 67.111525 \nL 241.182422 67.064291 \nL 241.291518 66.846153 \nL 241.439151 66.560331 \nL 241.753059 65.847541 \nL 241.833388 65.427793 \nL 241.873698 65.457306 \nL 242.328717 64.594424 \nL 242.330119 64.604219 \nL 242.355357 64.614017 \nL 242.37062 64.524135 \nL 242.522585 64.101532 \nL 242.530672 64.121041 \nL 243.467657 61.985433 \nL 243.51926 62.033569 \nL 243.588191 61.958508 \nL 243.721727 61.377632 \nL 243.760887 61.415899 \nL 243.780642 61.298493 \nL 243.926283 60.870778 \nL 243.928033 60.880312 \nL 243.947945 60.88985 \nL 243.97105 60.793686 \nL 244.086047 60.307329 \nL 244.26154 59.738663 \nL 244.363749 59.450066 \nL 244.649598 58.99445 \nL 244.654194 59.013158 \nL 244.722146 58.686412 \nL 244.725344 58.695735 \nL 244.815672 58.433699 \nL 244.830542 58.452301 \nL 245.073977 57.899723 \nL 245.281325 57.485797 \nL 245.355982 57.402519 \nL 245.453805 57.183077 \nL 245.487355 57.201437 \nL 246.162193 56.406967 \nL 246.23579 56.077707 \nL 246.27074 56.114171 \nL 246.551816 55.567116 \nL 246.671003 55.420056 \nL 246.68205 55.429133 \nL 246.896951 55.156265 \nL 246.97824 55.15764 \nL 246.985678 55.086375 \nL 247.283968 54.568152 \nL 248.009355 53.42765 \nL 248.013148 53.436563 \nL 248.097608 53.224575 \nL 248.119787 53.242351 \nL 248.276335 52.897651 \nL 248.380889 52.858834 \nL 248.555981 52.574745 \nL 248.575038 52.592417 \nL 248.750096 52.579525 \nL 248.750505 52.542069 \nL 248.98698 52.13526 \nL 248.999477 52.152854 \nL 249.037313 52.188089 \nL 249.090556 52.121412 \nL 249.211946 51.821825 \nL 249.42457 51.566733 \nL 249.480626 51.654523 \nL 249.484395 51.672126 \nL 249.549968 51.506909 \nL 249.572519 51.524487 \nL 249.689767 51.372819 \nL 249.696867 51.334268 \nL 249.781253 51.395835 \nL 249.797349 51.357221 \nL 249.815885 51.374833 \nL 249.829335 51.258852 \nL 249.848627 51.267644 \nL 250.074276 51.050187 \nL 250.0753 51.058982 \nL 250.089339 51.06778 \nL 250.090873 51.028815 \nL 250.11607 50.998621 \nL 250.673726 50.168437 \nL 250.702085 50.185888 \nL 250.810197 50.136476 \nL 251.115079 49.49455 \nL 251.115956 49.503201 \nL 251.148409 49.431384 \nL 251.206821 49.443003 \nL 251.300529 49.327626 \nL 251.320715 49.344957 \nL 251.578378 49.339014 \nL 251.688441 48.942102 \nL 251.711046 48.968084 \nL 251.955156 48.611001 \nL 251.959899 48.636905 \nL 251.964577 48.645547 \nL 252.010347 48.530232 \nL 252.032349 48.547492 \nL 252.160229 47.976076 \nL 252.252773 47.910641 \nL 252.573428 47.340731 \nL 252.724624 47.307116 \nL 252.841186 47.111523 \nL 252.85091 47.120008 \nL 252.89434 47.145355 \nL 252.856764 47.085876 \nL 252.936998 47.076937 \nL 253.091684 46.837027 \nL 253.526474 46.31442 \nL 253.529404 46.322845 \nL 253.687157 46.310433 \nL 253.697079 46.266799 \nL 253.906044 45.92346 \nL 253.908232 45.931859 \nL 254.02949 45.87563 \nL 254.108273 45.760214 \nL 254.150183 45.802236 \nL 254.150745 45.810653 \nL 254.211835 45.658986 \nL 254.250886 45.701018 \nL 254.293281 45.69035 \nL 254.269348 45.665096 \nL 254.297549 45.645962 \nL 254.478048 45.37373 \nL 254.561814 45.334648 \nL 254.68419 45.194273 \nL 254.632314 45.357083 \nL 254.692769 45.202664 \nL 254.794886 45.146223 \nL 254.850675 45.036098 \nL 254.910341 45.09484 \nL 254.945035 45.120077 \nL 254.989962 45.046381 \nL 255.197045 44.547104 \nL 255.208341 44.555441 \nL 255.450816 44.129306 \nL 255.468561 44.145892 \nL 255.498603 44.061864 \nL 255.56661 44.095026 \nL 255.701836 43.823453 \nL 255.702354 43.831727 \nL 255.806939 43.834855 \nL 255.827049 43.76641 \nL 255.955759 43.606943 \nL 255.96228 43.615219 \nL 255.983752 43.576568 \nL 256.05213 43.587555 \nL 256.277194 43.245498 \nL 256.27874 43.253746 \nL 256.3394 43.231108 \nL 256.343071 43.18368 \nL 256.385743 43.05768 \nL 256.461318 43.08236 \nL 256.541349 43.028298 \nL 256.67499 42.823813 \nL 256.69869 42.848477 \nL 256.861528 42.907707 \nL 256.722422 42.816964 \nL 256.870983 42.859592 \nL 257.191862 42.451375 \nL 257.246058 42.443863 \nL 257.249226 42.395211 \nL 257.331368 42.216698 \nL 257.367698 42.233064 \nL 257.405982 42.249447 \nL 257.416777 42.151735 \nL 257.434132 42.168092 \nL 257.495321 41.955808 \nL 257.585307 41.988428 \nL 257.851487 42.070311 \nL 257.851993 42.020889 \nL 257.963624 41.95482 \nL 258.069808 41.680937 \nL 258.236238 41.654885 \nL 258.317851 41.504857 \nL 258.351356 41.521201 \nL 258.514765 41.501707 \nL 258.516575 41.45136 \nL 258.62134 41.306901 \nL 258.655006 41.339684 \nL 258.683839 41.380762 \nL 258.723922 41.279403 \nL 258.816719 41.15987 \nL 258.822728 41.176253 \nL 258.916417 41.107206 \nL 259.054267 40.731053 \nL 259.098754 40.804264 \nL 259.190471 40.774894 \nL 259.201716 40.72338 \nL 259.320985 40.391108 \nL 259.332625 40.407334 \nL 259.351599 40.439838 \nL 259.378958 40.352115 \nL 259.452831 40.176086 \nL 259.477411 40.208478 \nL 259.570353 40.168737 \nL 259.60311 40.02758 \nL 259.669873 40.092448 \nL 259.827981 40.092874 \nL 259.986373 39.8483 \nL 259.996823 39.880843 \nL 260.132423 39.884691 \nL 260.135603 39.831382 \nL 260.377448 39.562563 \nL 260.388603 39.578815 \nL 260.411061 39.595086 \nL 260.432405 39.449891 \nL 260.497574 39.374456 \nL 260.618318 39.051971 \nL 260.655281 39.084179 \nL 260.709569 39.053977 \nL 260.681045 39.037863 \nL 260.713064 38.999541 \nL 260.819413 38.993366 \nL 260.825816 38.938787 \nL 261.061811 38.258093 \nL 261.088692 38.281844 \nL 261.357571 38.075933 \nL 261.367043 38.099699 \nL 261.468844 38.043678 \nL 261.473588 37.98781 \nL 261.563803 38.051313 \nL 261.637147 38.027107 \nL 261.64697 37.971004 \nL 261.647878 37.914869 \nL 261.754537 37.962549 \nL 261.944672 37.929565 \nL 262.007797 37.856416 \nL 262.052069 37.864392 \nL 262.13117 37.823713 \nL 262.174878 37.539975 \nL 262.229721 37.587468 \nL 262.339788 37.52898 \nL 262.362639 37.41473 \nL 262.446355 37.45431 \nL 262.505238 37.470175 \nL 262.513931 37.412896 \nL 262.796197 37.005332 \nL 262.834382 37.060429 \nL 263.501671 36.395139 \nL 263.751225 36.386298 \nL 263.756909 36.326802 \nL 263.836996 36.194969 \nL 263.866842 36.218472 \nL 263.878204 36.226317 \nL 263.886738 36.10667 \nL 263.938793 35.950238 \nL 264.005506 35.981398 \nL 264.025718 35.861149 \nL 264.088619 35.884472 \nL 264.293033 35.818334 \nL 264.463358 35.744041 \nL 264.467822 35.751823 \nL 264.803708 35.763028 \nL 264.814669 35.702054 \nL 264.90018 35.764752 \nL 265.110893 35.805949 \nL 265.111753 35.744542 \nL 265.13004 35.621611 \nL 265.229922 35.660944 \nL 265.232105 35.668826 \nL 265.262208 35.49166 \nL 265.28166 35.4995 \nL 265.286596 35.43772 \nL 265.38662 35.508352 \nL 265.390489 35.446376 \nL 265.628612 35.198186 \nL 265.798525 35.174836 \nL 265.888622 34.978979 \nL 265.946379 35.057012 \nL 266.211613 35.096035 \nL 266.257391 34.969543 \nL 266.322314 34.993089 \nL 266.33419 34.866322 \nL 266.441864 34.921189 \nL 266.509115 34.952655 \nL 266.514534 34.896869 \nL 266.626925 34.648065 \nL 266.733965 34.630869 \nL 266.905468 34.32223 \nL 267.068342 34.335307 \nL 267.073426 34.278175 \nL 267.192007 34.087606 \nL 267.235421 33.956905 \nL 267.325269 33.995568 \nL 267.333976 34.003316 \nL 267.336261 33.872206 \nL 267.488442 33.620052 \nL 267.54417 33.569314 \nL 267.589535 33.452262 \nL 267.645314 33.490461 \nL 267.706333 33.536471 \nL 267.706385 33.469996 \nL 267.795349 33.277907 \nL 267.81975 33.144509 \nL 267.905911 33.182416 \nL 268.060492 33.153483 \nL 268.074373 33.176307 \nL 268.081992 33.109229 \nL 268.1701 33.132039 \nL 268.239876 33.177799 \nL 268.255377 33.118115 \nL 268.402465 32.690497 \nL 268.402644 32.698013 \nL 268.425516 32.645171 \nL 268.458561 32.660198 \nL 268.669616 32.432698 \nL 268.677861 32.440166 \nL 268.890899 32.446606 \nL 269.028659 32.2166 \nL 269.155051 32.177447 \nL 269.210032 32.054148 \nL 269.27453 32.091282 \nL 269.345067 32.113626 \nL 269.345549 32.044277 \nL 269.417601 31.942448 \nL 269.456017 31.96472 \nL 269.608708 31.969411 \nL 269.611076 31.899468 \nL 269.697418 31.936737 \nL 269.801571 31.826209 \nL 269.848024 31.870967 \nL 270.019559 31.867831 \nL 270.024054 31.812115 \nL 270.094076 31.53609 \nL 270.10753 31.550907 \nL 270.18511 31.502051 \nL 270.338574 31.41131 \nL 270.353679 31.426118 \nL 270.56591 31.42876 \nL 270.578852 31.285166 \nL 270.675308 31.322198 \nL 270.770909 31.128132 \nL 270.822312 31.150252 \nL 271.05117 31.123644 \nL 271.151256 30.876228 \nL 271.219701 30.905698 \nL 271.268438 30.847174 \nL 271.332744 30.744422 \nL 271.377872 30.766491 \nL 271.458824 30.744331 \nL 271.459265 30.670426 \nL 271.562853 30.736833 \nL 271.667242 30.67003 \nL 271.668222 30.595764 \nL 271.772577 30.617865 \nL 271.827805 30.55818 \nL 271.875203 30.423749 \nL 271.903834 30.44574 \nL 272.405399 30.443054 \nL 272.49169 30.27552 \nL 272.527369 30.297643 \nL 272.574573 30.327219 \nL 272.580658 30.266054 \nL 272.588047 30.190009 \nL 272.665668 30.241697 \nL 272.88437 30.192529 \nL 272.971248 30.068462 \nL 273.013456 30.098107 \nL 273.1416 30.058042 \nL 273.166715 29.980731 \nL 273.265697 30.01779 \nL 273.681349 30.048816 \nL 273.773984 29.880805 \nL 273.796075 29.910799 \nL 273.812877 29.918313 \nL 273.838573 29.846901 \nL 273.863564 29.696289 \nL 273.96556 29.741054 \nL 274.013862 29.771017 \nL 274.023793 29.691582 \nL 274.067547 29.721526 \nL 274.085172 29.562233 \nL 274.189164 29.636933 \nL 274.612248 29.64956 \nL 274.623283 29.568719 \nL 274.718146 29.606554 \nL 274.926465 29.682688 \nL 274.937791 29.601331 \nL 275.035761 29.320304 \nL 275.112725 29.178922 \nL 275.156888 29.208922 \nL 275.869311 29.302249 \nL 275.954298 29.096253 \nL 276.300731 29.13464 \nL 276.402831 29.065175 \nL 276.410343 29.080583 \nL 276.482341 29.126966 \nL 276.502877 29.049437 \nL 276.504784 28.964082 \nL 276.614072 29.010343 \nL 276.684885 28.862032 \nL 276.730828 28.900529 \nL 276.757157 28.923707 \nL 276.7699 28.837561 \nL 276.780418 28.860697 \nL 276.790273 28.774374 \nL 276.881503 28.828355 \nL 277.202595 28.865792 \nL 277.335496 28.562415 \nL 277.543566 28.559466 \nL 277.548046 28.471219 \nL 277.64023 28.525383 \nL 277.736946 28.5487 \nL 277.763742 28.467767 \nL 277.970631 28.448706 \nL 278.071934 28.375004 \nL 278.398974 28.465067 \nL 278.409649 28.374785 \nL 278.59956 27.907923 \nL 278.618635 27.931022 \nL 278.711258 27.985167 \nL 278.754161 27.809539 \nL 278.829723 27.879035 \nL 279.133247 27.895574 \nL 279.146087 27.802773 \nL 279.219096 27.841742 \nL 279.891923 27.914636 \nL 279.981945 27.741174 \nL 280.003468 27.772868 \nL 280.007045 27.78081 \nL 280.01485 27.685756 \nL 280.074445 27.733319 \nL 280.096929 27.542443 \nL 280.195289 27.566076 \nL 280.241565 27.597692 \nL 280.47166 27.468787 \nL 280.693356 27.435463 \nL 280.819087 27.280958 \nL 280.976247 27.270239 \nL 281.12365 27.129468 \nL 281.138242 27.161018 \nL 281.400638 27.14152 \nL 281.407409 27.042505 \nL 281.514276 27.089993 \nL 281.782552 27.101883 \nL 281.900048 26.840656 \nL 282.09608 26.834879 \nL 282.122654 26.733571 \nL 282.177742 26.781154 \nL 282.359823 26.719097 \nL 282.419619 26.624968 \nL 282.489302 26.664607 \nL 282.550137 26.704448 \nL 282.557207 26.601784 \nL 282.851032 26.467059 \nL 283.221415 26.635101 \nL 283.301735 26.683785 \nL 283.307476 26.579032 \nL 283.319208 26.587125 \nL 283.426618 26.506392 \nL 283.428466 26.401219 \nL 283.53335 26.409245 \nL 283.618438 26.425322 \nL 283.795248 26.140329 \nL 284.010677 26.113532 \nL 284.110029 26.022763 \nL 284.136993 26.038627 \nL 284.518616 26.091157 \nL 284.535813 25.983065 \nL 284.626217 26.047373 \nL 284.769268 26.128539 \nL 284.794377 26.027469 \nL 284.808558 25.918117 \nL 284.851861 25.926181 \nL 285.086058 25.881044 \nL 285.208777 25.716773 \nL 285.612786 25.718602 \nL 285.628756 25.606972 \nL 285.719706 25.639219 \nL 285.983977 25.753212 \nL 285.986704 25.640421 \nL 286.082294 25.664904 \nL 286.289788 25.608849 \nL 286.353275 25.275582 \nL 286.401375 25.299657 \nL 286.418565 25.315752 \nL 286.569824 25.225412 \nL 286.636661 25.241477 \nL 286.641718 25.126676 \nL 286.709009 25.166698 \nL 287.110326 25.188206 \nL 287.173355 25.079861 \nL 287.232902 25.112211 \nL 288.043482 25.342897 \nL 288.068506 25.224265 \nL 288.154209 25.282667 \nL 288.524803 25.375417 \nL 288.617908 25.040072 \nL 288.689511 25.073423 \nL 288.852384 25.174434 \nL 289.475624 25.335922 \nL 289.484355 25.211852 \nL 289.543977 25.237946 \nL 289.815539 25.235562 \nL 289.949188 24.892718 \nL 290.356347 24.89576 \nL 290.455168 24.640373 \nL 290.526926 24.666095 \nL 290.75538 24.787424 \nL 290.852718 24.666876 \nL 290.858306 24.675559 \nL 291.134025 24.745426 \nL 291.149243 24.61527 \nL 291.24913 24.641421 \nL 291.305788 24.676446 \nL 291.324288 24.545577 \nL 291.422531 24.580468 \nL 291.838649 24.884459 \nL 291.876594 24.777595 \nL 292.063384 24.417878 \nL 292.090391 24.43571 \nL 292.191604 24.489492 \nL 292.376459 24.22585 \nL 292.392854 24.243556 \nL 292.548852 24.279111 \nL 292.582373 24.141999 \nL 292.676435 24.195173 \nL 292.729984 24.204077 \nL 292.803686 23.963121 \nL 292.936413 23.841907 \nL 292.95146 23.850632 \nL 293.720514 23.958221 \nL 293.796327 23.575888 \nL 293.806242 23.593441 \nL 294.514775 23.615723 \nL 294.626942 23.218469 \nL 294.675763 23.244937 \nL 294.770793 23.280406 \nL 294.796059 23.13174 \nL 294.895267 23.167009 \nL 295.003737 23.184721 \nL 295.004426 23.035227 \nL 295.083367 23.070395 \nL 295.496532 23.159219 \nL 295.531514 23.008055 \nL 295.631074 23.061349 \nL 295.793271 23.133147 \nL 296.797983 23.338605 \nL 296.954956 23.05132 \nL 296.988953 23.079219 \nL 297.25014 23.211138 \nL 297.429433 23.307143 \nL 297.488059 22.984101 \nL 297.525781 23.003004 \nL 297.673739 23.040991 \nL 297.732494 22.72477 \nL 297.81133 22.743397 \nL 297.857836 22.752732 \nL 298.005369 22.598327 \nL 298.158911 22.663334 \nL 298.221455 22.49845 \nL 298.237943 22.526159 \nL 298.516602 22.591335 \nL 298.527896 22.424926 \nL 298.626928 22.443429 \nL 299.268063 22.622245 \nL 299.270763 22.452848 \nL 299.360086 22.481199 \nL 299.434223 22.500177 \nL 299.471571 22.329839 \nL 299.476724 22.339219 \nL 299.600977 22.348614 \nL 299.746565 22.196295 \nL 299.76153 22.205603 \nL 299.838075 22.271192 \nL 299.852247 22.098666 \nL 299.914887 22.135944 \nL 299.927007 21.96258 \nL 299.952347 21.971801 \nL 300.228048 21.668863 \nL 300.252918 21.696013 \nL 300.752707 21.824558 \nL 300.839168 21.532644 \nL 300.893084 21.560051 \nL 300.921994 21.578402 \nL 301.105969 21.407574 \nL 301.118422 21.41664 \nL 301.155456 21.425723 \nL 301.175247 21.245083 \nL 301.256038 21.28097 \nL 301.369678 21.289981 \nL 301.384987 20.743894 \nL 301.480091 20.795544 \nL 301.534704 20.804205 \nL 301.593057 20.444751 \nL 301.646734 20.495262 \nL 302.37565 20.539548 \nL 302.483702 19.800838 \nL 303.232149 19.940677 \nL 303.23282 19.745636 \nL 303.274761 19.778486 \nL 303.886962 19.920898 \nL 303.905548 19.72174 \nL 304.00544 19.772014 \nL 304.504104 19.908955 \nL 304.54731 19.705313 \nL 304.638058 19.739454 \nL 304.736732 19.791171 \nL 304.859431 19.593685 \nL 305.25019 19.670804 \nL 305.466878 19.27021 \nL 305.499338 19.295122 \nL 306.282243 19.535087 \nL 306.469175 18.934985 \nL 306.469524 18.943269 \nL 307.064367 19.112652 \nL 307.206923 18.906128 \nL 307.975799 19.061334 \nL 308.533774 19.259509 \nL 308.583703 19.025527 \nL 308.607279 19.034516 \nL 309.21908 19.181112 \nL 309.258575 19.190452 \nL 309.378823 18.960409 \nL 309.393764 18.969528 \nL 309.701935 18.747081 \nL 309.705622 18.755997 \nL 310.24758 18.837172 \nL 310.263184 18.593165 \nL 310.370778 18.628692 \nL 310.425374 18.664554 \nL 310.430808 18.41776 \nL 310.535019 18.452836 \nL 312.10695 18.832461 \nL 312.108344 18.571756 \nL 312.208589 18.619144 \nL 312.582813 18.774851 \nL 312.82579 18.855116 \nL 312.967631 18.594148 \nL 313.218083 18.683617 \nL 314.908978 19.175932 \nL 315.005341 19.268064 \nL 315.321959 19.326708 \nL 315.34712 19.029673 \nL 315.410762 19.06404 \nL 316.816603 19.412076 \nL 316.828746 19.10056 \nL 316.870374 19.149144 \nL 317.776669 19.414079 \nL 317.785873 19.427126 \nL 317.814526 19.102573 \nL 317.89454 19.127817 \nL 318.627662 19.37572 \nL 318.751446 19.416251 \nL 318.89919 19.457177 \nL 318.996502 19.11792 \nL 319.074056 19.157653 \nL 320.54766 19.490085 \nL 321.09431 19.636732 \nL 321.74576 19.83512 \nL 321.755018 19.850759 \nL 321.784531 19.109769 \nL 321.830371 19.138684 \nL 321.897711 19.182445 \nL 321.947564 18.806759 \nL 321.970979 18.820801 \nL 323.068825 19.052552 \nL 323.68487 19.235582 \nL 323.693703 18.838612 \nL 323.790827 18.853515 \nL 324.024819 18.944142 \nL 324.038444 18.54049 \nL 324.145418 18.569664 \nL 324.257823 18.643594 \nL 324.510944 18.718982 \nL 324.529921 18.304515 \nL 324.636722 18.392179 \nL 325.281579 18.573973 \nL 325.744032 18.748653 \nL 326.047631 18.847372 \nL 326.061576 18.401432 \nL 326.08486 18.417214 \nL 327.198689 18.645461 \nL 327.33892 18.69621 \nL 327.418822 18.713276 \nL 327.428192 18.247219 \nL 327.508826 18.263361 \nL 327.591241 17.794219 \nL 327.662609 17.80942 \nL 328.526833 18.111742 \nL 328.937204 18.299363 \nL 330.142791 18.628692 \nL 331.270682 18.885644 \nL 331.434861 19.031303 \nL 331.48556 19.052552 \nL 331.509852 18.49715 \nL 332.004723 18.639003 \nL 332.259214 18.722497 \nL 332.273604 18.147931 \nL 332.370918 18.187318 \nL 333.335519 18.349303 \nL 333.453791 17.176491 \nL 336.17472 17.81552 \nL 336.246335 17.858525 \nL 337.138156 18.199219 \nL 337.34088 18.295863 \nL 340.526181 19.173655 \nL 340.87106 19.266899 \nL 341.21859 19.427126 \nL 341.608877 19.526278 \nL 341.930096 19.662167 \nL 341.957028 18.827059 \nL 342.046666 18.890186 \nL 342.259449 18.986811 \nL 342.850121 19.256434 \nL 343.311108 19.582377 \nL 343.650027 19.735647 \nL 345.048926 20.230162 \nL 345.066352 20.318076 \nL 346.035529 20.639416 \nL 347.158164 21.086641 \nL 347.289306 21.191719 \nL 347.735997 21.353504 \nL 348.271456 21.634871 \nL 349.139623 21.811152 \nL 349.410189 21.993376 \nL 352.026208 23.385042 \nL 352.106752 23.463932 \nL 352.42761 23.624767 \nL 352.602916 23.873956 \nL 353.737485 24.221921 \nL 353.909758 24.403054 \nL 354.166126 24.495495 \nL 354.200468 23.079219 \nL 354.239444 23.163694 \nL 355.044574 23.604436 \nL 355.257383 23.980711 \nL 356.083312 24.48387 \nL 356.086881 24.589219 \nL 356.676221 25.141658 \nL 356.688325 25.257579 \nL 357.460253 25.617034 \nL 357.541553 25.740914 \nL 358.539543 26.258166 \nL 358.951865 26.67057 \nL 359.520763 26.813037 \nL 359.80959 27.256415 \nL 360.09277 27.409785 \nL 360.194452 27.725373 \nL 360.38474 28.053336 \nL 360.395267 28.222189 \nL 360.715686 28.570128 \nL 360.822979 29.309956 \nL 361.305572 29.907045 \nL 362.067458 30.114823 \nL 362.076623 30.327219 \nL 362.782903 31.226195 \nL 363.197896 31.957291 \nL 363.488086 32.212877 \nL 363.626639 32.743219 \nL 364.192727 34.82826 \nL 364.661877 35.159219 \nL 364.733994 36.209654 \nL 364.988172 36.580395 \nL 365.486103 36.962204 \nL 365.574369 37.355582 \nL 366.886211 38.179219 \nL 366.992968 38.610647 \nL 367.777615 39.055993 \nL 368.227626 39.51594 \nL 368.499112 39.991219 \nL 369.633373 40.482609 \nL 370.129354 40.990943 \nL 371.241223 41.517113 \nL 372.592015 42.626855 \nL 372.836245 43.820351 \nL 372.859872 44.451526 \nL 373.265772 45.107454 \nL 373.43952 45.789619 \nL 373.764631 42.062076 \nL 374.131347 42.709219 \nL 374.262519 43.3839 \nL 374.271028 44.087914 \nL 374.964844 44.823219 \nL 375.438005 45.591946 \nL 376.338454 46.396428 \nL 376.73679 48.123121 \nL 376.888324 43.615219 \nL 376.89869 38.876142 \nL 377.393265 39.609745 \nL 377.668711 40.383003 \nL 378.55526 41.199219 \nL 379.101697 42.975689 \nL 379.596306 43.944673 \nL 380.303298 44.974219 \nL 380.539036 46.070186 \nL 381.843672 47.239219 \nL 382.022607 51.265885 \nL 382.626835 52.814603 \nL 383.594291 45.789619 \nL 383.938465 38.179219 \nL 387.750965 39.360958 \nL 387.773792 40.650128 \nL 390.115787 42.062076 \nL 391.326612 43.615219 \nL 392.275082 45.33185 \nL 392.56488 47.239219 \nL 395.435043 51.769219 \nL 395.472094 39.991219 \nL 396.817708 42.062076 \nL 398.149515 44.451526 \nL 402.841213 47.239219 \nL 407.44588 54.487219 \nL 407.522929 59.319219 \nL 408.035228 38.179219 \nL 410.709029 42.062076 \nL 413.95 47.239219 \nL 417.585499 10.999219 \nL 474.009703 10.999219 \nL 474.009703 10.999219 \n\" style=\"fill:none;stroke:#0000ff;stroke-dasharray:5.55,2.4;stroke-dashoffset:0;stroke-width:1.5;\"/>\n   </g>\n   <g id=\"line2d_24\">\n    <path clip-path=\"url(#pde61d3f3bd)\" d=\"M 30.027681 11.320104 \nL 53.152854 11.400326 \nL 53.519168 11.440436 \nL 74.43832 11.520658 \nL 74.546462 11.560768 \nL 81.321317 11.64099 \nL 81.433416 11.6811 \nL 83.195064 11.761322 \nL 83.321039 11.801432 \nL 92.130396 11.881654 \nL 92.209485 11.921764 \nL 100.53118 12.001986 \nL 100.675145 12.042096 \nL 102.354214 12.122318 \nL 102.460736 12.162428 \nL 111.08226 12.24265 \nL 111.191685 12.282761 \nL 115.02313 12.362982 \nL 115.131523 12.403093 \nL 121.962157 12.483314 \nL 122.069792 12.523425 \nL 124.582996 12.603646 \nL 124.695691 12.643757 \nL 131.105077 12.723978 \nL 131.228086 12.764089 \nL 134.375111 12.84431 \nL 134.489458 12.884421 \nL 141.940486 12.964642 \nL 142.048412 13.004753 \nL 144.806432 13.084974 \nL 144.917189 13.125085 \nL 149.03427 13.205306 \nL 149.145368 13.245417 \nL 154.948381 13.325638 \nL 155.057317 13.365749 \nL 157.292334 13.44597 \nL 157.429538 13.526192 \nL 158.544215 13.606413 \nL 158.657326 13.686634 \nL 161.676806 13.766856 \nL 161.786295 13.806966 \nL 163.361728 13.887188 \nL 163.476176 13.967409 \nL 164.232668 14.04763 \nL 164.341653 14.087741 \nL 168.105303 14.167963 \nL 168.21713 14.248184 \nL 169.916931 14.328405 \nL 170.031797 14.368516 \nL 171.223518 14.448737 \nL 171.33502 14.488848 \nL 172.517807 14.569069 \nL 172.629478 14.60918 \nL 173.615136 14.689401 \nL 173.732194 14.729512 \nL 175.463467 14.809733 \nL 175.575637 14.889955 \nL 176.856174 14.970176 \nL 176.964121 15.010287 \nL 178.216046 15.090508 \nL 178.325551 15.130619 \nL 180.354474 15.21084 \nL 180.458297 15.250951 \nL 181.363183 15.331172 \nL 181.480791 15.411394 \nL 181.692267 15.491615 \nL 181.798712 15.531726 \nL 182.84362 15.611947 \nL 182.951628 15.652058 \nL 183.733573 15.732279 \nL 183.842944 15.77239 \nL 184.428696 15.852611 \nL 184.540124 15.932832 \nL 185.549655 16.013054 \nL 185.658399 16.053165 \nL 187.339123 16.133386 \nL 187.451937 16.173497 \nL 188.138041 16.253718 \nL 188.248854 16.293829 \nL 188.662745 16.37405 \nL 188.773491 16.414161 \nL 189.953447 16.494382 \nL 190.055095 16.574603 \nL 190.682702 16.654825 \nL 190.791914 16.694935 \nL 190.910018 16.775157 \nL 191.024372 16.895489 \nL 191.619908 16.97571 \nL 191.730751 17.055932 \nL 191.970613 17.136153 \nL 192.083245 17.176264 \nL 192.237608 17.256485 \nL 192.345513 17.336706 \nL 193.417506 17.416928 \nL 193.529399 17.53726 \nL 194.252933 17.617481 \nL 194.37049 17.737813 \nL 194.814651 17.818034 \nL 194.928904 17.898256 \nL 195.12949 17.978477 \nL 195.242717 18.058699 \nL 195.441808 18.13892 \nL 195.551416 18.219141 \nL 195.830327 18.299363 \nL 195.94103 18.379584 \nL 196.388789 18.459805 \nL 196.498678 18.499916 \nL 196.749899 18.580137 \nL 196.862279 18.620248 \nL 197.344868 18.700469 \nL 197.454501 18.820801 \nL 198.009575 18.901023 \nL 198.118275 18.941134 \nL 198.268875 19.021355 \nL 198.380041 19.061466 \nL 198.726396 19.141687 \nL 198.837491 19.221908 \nL 198.978366 19.30213 \nL 199.08346 19.34224 \nL 199.658598 19.422462 \nL 199.768984 19.462572 \nL 200.82803 19.542794 \nL 200.938344 19.582904 \nL 201.017428 19.663126 \nL 201.128563 19.703236 \nL 201.381064 19.783458 \nL 201.492626 19.863679 \nL 202.08978 19.943901 \nL 202.20394 20.064233 \nL 202.508115 20.144454 \nL 202.620492 20.264786 \nL 202.786242 20.345007 \nL 202.89557 20.385118 \nL 203.164888 20.465339 \nL 203.276253 20.50545 \nL 203.721189 20.585671 \nL 203.834205 20.665893 \nL 203.950835 20.746114 \nL 204.257125 20.826336 \nL 204.36995 20.906557 \nL 204.600175 20.986778 \nL 204.70716 21.067 \nL 204.998739 21.147221 \nL 205.111525 21.227442 \nL 205.207989 21.307664 \nL 205.314909 21.387885 \nL 205.453597 21.468106 \nL 205.705089 21.548328 \nL 205.829962 21.829103 \nL 205.97272 21.909324 \nL 206.090669 22.029656 \nL 206.561881 22.109877 \nL 206.673445 22.230209 \nL 207.026551 22.310431 \nL 207.156701 22.390652 \nL 207.294987 22.470873 \nL 207.411719 22.551095 \nL 207.63224 22.631316 \nL 207.745637 22.711538 \nL 208.203794 22.791759 \nL 208.316759 22.87198 \nL 208.561128 22.952202 \nL 208.679771 23.072534 \nL 208.945803 23.152755 \nL 209.065317 23.273087 \nL 209.240186 23.353308 \nL 209.350917 23.47364 \nL 209.53072 23.553862 \nL 209.639673 23.674194 \nL 209.844957 23.754415 \nL 209.959656 23.834637 \nL 210.194788 23.914858 \nL 210.312298 24.03519 \nL 210.544309 24.115411 \nL 210.659185 24.195633 \nL 210.859691 24.275854 \nL 210.97082 24.356075 \nL 211.102822 24.436297 \nL 211.214358 24.516518 \nL 211.291999 24.59674 \nL 211.401876 24.676961 \nL 211.503904 24.757182 \nL 211.614415 24.797293 \nL 211.725228 24.877514 \nL 211.838285 24.997846 \nL 211.917583 25.078068 \nL 212.031663 25.118178 \nL 212.337602 25.1984 \nL 212.43647 25.278621 \nL 212.88992 25.358842 \nL 213.004843 25.439064 \nL 213.218053 25.519285 \nL 213.334113 25.599507 \nL 213.659659 25.679728 \nL 213.780648 25.880281 \nL 214.025859 25.960503 \nL 214.138663 26.120945 \nL 214.275623 26.201167 \nL 214.385656 26.241277 \nL 214.560214 26.321499 \nL 214.671116 26.361609 \nL 214.730422 26.441831 \nL 214.840141 26.642384 \nL 214.927913 26.722606 \nL 215.067449 26.883048 \nL 215.366186 26.96327 \nL 215.480349 27.083602 \nL 215.708866 27.163823 \nL 215.817643 27.244044 \nL 216.106184 27.324266 \nL 216.218259 27.364376 \nL 216.280067 27.444598 \nL 216.392597 27.524819 \nL 216.555281 27.605041 \nL 216.665949 27.725373 \nL 216.724721 27.805594 \nL 216.838398 27.885815 \nL 216.952739 27.966037 \nL 217.066106 28.046258 \nL 217.206105 28.126479 \nL 217.319756 28.206701 \nL 217.604493 28.286922 \nL 217.724165 28.487476 \nL 217.935637 28.567697 \nL 218.037964 28.688029 \nL 218.08467 28.76825 \nL 218.198621 28.928693 \nL 218.314324 29.008914 \nL 218.392867 29.089136 \nL 218.507448 29.249578 \nL 218.65315 29.3298 \nL 218.793958 29.410021 \nL 218.992348 29.490243 \nL 219.106021 29.771017 \nL 219.328062 29.851239 \nL 219.439437 30.011681 \nL 219.623055 30.091903 \nL 219.736417 30.212235 \nL 219.903924 30.292456 \nL 220.021549 30.412788 \nL 220.225018 30.49301 \nL 220.384021 30.613342 \nL 220.510718 30.693563 \nL 220.616993 30.773784 \nL 220.779908 30.854006 \nL 220.89516 30.974338 \nL 221.125412 31.054559 \nL 221.235188 31.215002 \nL 221.404517 31.295223 \nL 221.51745 31.495777 \nL 221.606309 31.575998 \nL 221.747222 31.856773 \nL 221.949595 31.977105 \nL 222.036539 32.057326 \nL 222.150355 32.177658 \nL 222.200023 32.25788 \nL 222.311482 32.29799 \nL 222.477394 32.378212 \nL 222.595931 32.578765 \nL 222.651668 32.658986 \nL 222.757692 32.779318 \nL 222.832747 32.85954 \nL 222.942098 33.019982 \nL 223.057952 33.100204 \nL 223.169147 33.180425 \nL 223.257378 33.260647 \nL 223.369632 33.4612 \nL 223.403367 33.541421 \nL 223.617779 33.982639 \nL 223.743519 34.06286 \nL 223.856474 34.183192 \nL 223.94856 34.263414 \nL 224.098068 34.463967 \nL 224.158732 34.544188 \nL 224.303048 34.784852 \nL 224.358492 34.865074 \nL 224.47824 34.985406 \nL 224.654341 35.065627 \nL 224.796119 35.346402 \nL 224.886661 35.426623 \nL 224.99662 35.546955 \nL 225.131137 35.627177 \nL 225.241861 35.667287 \nL 225.52552 35.747509 \nL 225.695529 36.028283 \nL 225.816425 36.108505 \nL 225.929825 36.188726 \nL 226.024257 36.268948 \nL 226.141279 36.38928 \nL 226.29533 36.469501 \nL 226.40972 36.750276 \nL 226.483559 36.830497 \nL 226.612174 37.071161 \nL 226.807875 37.151383 \nL 226.928209 37.231604 \nL 226.983706 37.311825 \nL 227.309977 37.793153 \nL 227.374555 37.873375 \nL 227.510514 37.993707 \nL 227.584617 38.073928 \nL 227.697841 38.19426 \nL 227.79705 38.274482 \nL 227.925991 38.515146 \nL 227.957127 38.595367 \nL 228.076568 38.715699 \nL 228.239829 38.79592 \nL 228.346886 38.996474 \nL 228.4142 39.076695 \nL 228.550227 39.35747 \nL 228.662654 39.437691 \nL 228.936154 39.91902 \nL 229.018707 39.999241 \nL 229.189026 40.320126 \nL 229.395782 40.400348 \nL 229.622112 40.761344 \nL 229.720785 40.841565 \nL 229.832544 40.961897 \nL 229.952103 41.042119 \nL 230.100462 41.322893 \nL 230.165615 41.403115 \nL 230.347516 41.724 \nL 230.435356 41.804222 \nL 230.567455 41.924554 \nL 230.610194 42.004775 \nL 230.730864 42.125107 \nL 230.755828 42.205328 \nL 230.875238 42.405882 \nL 230.941532 42.486103 \nL 231.067094 42.766878 \nL 231.158442 42.847099 \nL 231.293508 43.007542 \nL 231.418028 43.087763 \nL 231.542416 43.328427 \nL 231.564915 43.408649 \nL 231.716223 43.729534 \nL 231.833677 43.809756 \nL 231.951601 44.05042 \nL 232.006215 44.130641 \nL 232.197866 44.331194 \nL 232.300998 44.411416 \nL 232.412525 44.692191 \nL 232.598846 44.772412 \nL 232.712931 45.053187 \nL 232.911106 45.574626 \nL 232.960095 45.654847 \nL 233.169631 46.015843 \nL 233.237964 46.096064 \nL 233.363168 46.296618 \nL 233.500495 46.376839 \nL 233.624784 46.537282 \nL 233.717852 46.617503 \nL 233.838067 46.777946 \nL 233.926621 46.858167 \nL 234.044759 47.01861 \nL 234.696005 48.021377 \nL 234.850555 48.382373 \nL 234.95896 48.462595 \nL 235.074581 48.582927 \nL 235.186172 48.663148 \nL 235.355983 49.104365 \nL 235.417881 49.184587 \nL 235.527488 49.465362 \nL 235.586461 49.545583 \nL 235.690098 49.706026 \nL 235.773131 49.786247 \nL 235.894496 50.267575 \nL 235.965698 50.347797 \nL 236.081647 50.588461 \nL 236.264939 50.949457 \nL 236.428886 51.029678 \nL 236.562947 51.390674 \nL 236.593555 51.470896 \nL 236.739022 51.872002 \nL 236.780683 51.952224 \nL 236.899567 52.072556 \nL 236.998023 52.152777 \nL 237.117474 52.232998 \nL 237.173508 52.31322 \nL 237.276174 52.553884 \nL 237.295167 52.634105 \nL 237.42451 52.954991 \nL 237.48685 53.035212 \nL 237.630313 53.315987 \nL 237.683811 53.396208 \nL 237.790356 53.636872 \nL 237.927883 53.717094 \nL 238.047434 54.037979 \nL 238.1419 54.1182 \nL 238.322953 54.439086 \nL 238.380978 54.519307 \nL 238.486616 54.67975 \nL 238.502648 54.759971 \nL 238.636498 55.120968 \nL 238.686491 55.201189 \nL 238.797674 55.441853 \nL 238.927858 55.642406 \nL 238.992492 55.722628 \nL 239.127904 56.123735 \nL 239.196355 56.203956 \nL 239.308456 56.284177 \nL 239.383405 56.364399 \nL 239.529596 56.765505 \nL 239.541088 56.845727 \nL 239.676897 57.327055 \nL 239.733138 57.407276 \nL 239.868557 57.728162 \nL 239.934277 57.808383 \nL 240.092496 58.329822 \nL 241.321193 60.616131 \nL 241.359005 60.696352 \nL 241.5094 60.977127 \nL 241.544739 61.057348 \nL 241.684307 61.458455 \nL 241.822578 61.538676 \nL 241.938657 62.020005 \nL 241.979541 62.100226 \nL 242.109526 62.421111 \nL 242.133905 62.501333 \nL 242.301409 62.982661 \nL 243.687541 65.990962 \nL 243.741307 66.071183 \nL 244.375811 67.274504 \nL 244.412265 67.354725 \nL 244.580128 67.876164 \nL 245.371747 69.40037 \nL 245.481488 69.480591 \nL 245.599774 69.641034 \nL 245.895373 70.322915 \nL 245.998149 70.60369 \nL 246.107247 70.844354 \nL 246.23732 71.125129 \nL 247.114122 73.050442 \nL 247.207721 73.130663 \nL 247.315849 73.371327 \nL 248.464412 75.457083 \nL 248.510693 75.537304 \nL 248.638193 75.858189 \nL 248.909594 76.299407 \nL 248.999477 76.379628 \nL 249.211946 76.941178 \nL 249.261355 77.021399 \nL 249.342278 77.221953 \nL 249.437476 77.422506 \nL 249.549968 77.943945 \nL 249.829335 78.746158 \nL 250.64066 80.671471 \nL 250.858193 81.152799 \nL 250.9151 81.233021 \nL 251.14397 81.594017 \nL 251.177107 81.674238 \nL 251.294823 82.235788 \nL 251.320715 82.316009 \nL 251.499186 82.877559 \nL 251.875169 83.759994 \nL 251.955156 83.840215 \nL 252.05933 84.12099 \nL 252.85858 86.206745 \nL 252.982967 86.52763 \nL 253.140543 86.607852 \nL 253.279236 86.768295 \nL 253.324072 86.848516 \nL 253.449514 87.329844 \nL 253.555681 87.65073 \nL 253.687157 88.172168 \nL 253.760959 88.25239 \nL 254.03519 88.813939 \nL 254.193227 89.215046 \nL 254.375188 89.776596 \nL 254.803855 90.859584 \nL 254.834293 90.939805 \nL 255.184211 91.902462 \nL 255.259058 91.982683 \nL 255.401749 92.343679 \nL 255.595239 92.905229 \nL 255.702354 93.346446 \nL 255.846501 93.747553 \nL 255.96228 94.108549 \nL 256.14064 94.710209 \nL 256.241088 94.790431 \nL 256.368388 95.031095 \nL 257.331368 97.317404 \nL 257.479853 97.6784 \nL 257.660324 97.999285 \nL 257.820343 98.520724 \nL 258.069808 99.282827 \nL 258.19351 99.563602 \nL 258.317851 99.643823 \nL 258.447873 100.004819 \nL 258.549614 100.446037 \nL 258.969966 101.488914 \nL 259.054267 101.569136 \nL 259.236041 102.331239 \nL 259.320985 102.692235 \nL 259.477411 103.334006 \nL 259.566174 103.61478 \nL 259.732747 104.256551 \nL 259.797599 104.537326 \nL 259.921804 104.818101 \nL 259.96333 104.898322 \nL 260.107408 105.33954 \nL 260.388603 105.981311 \nL 260.568225 106.582971 \nL 260.644054 106.663192 \nL 260.906794 107.304963 \nL 260.94934 107.385184 \nL 261.717041 109.350608 \nL 261.909887 109.711604 \nL 262.052069 110.0726 \nL 262.570672 110.995146 \nL 262.632975 111.075367 \nL 262.77096 111.516585 \nL 262.802551 111.596806 \nL 262.897317 111.877581 \nL 263.109298 112.479241 \nL 263.25205 112.800126 \nL 263.638662 113.762783 \nL 263.73942 113.923225 \nL 263.866842 114.404554 \nL 264.088619 114.845771 \nL 264.284972 115.086435 \nL 264.436691 115.327099 \nL 264.578757 115.728206 \nL 264.705539 115.928759 \nL 264.774523 116.008981 \nL 264.862646 116.329866 \nL 265.602061 117.934293 \nL 265.662324 118.014515 \nL 265.846684 118.3354 \nL 265.973158 118.89695 \nL 266.510104 119.899717 \nL 266.651674 120.381045 \nL 266.768107 120.581598 \nL 266.894253 120.942595 \nL 266.963326 121.022816 \nL 267.706385 122.988239 \nL 267.846281 123.068461 \nL 269.067134 125.39488 \nL 269.226605 125.635544 \nL 269.350407 125.876208 \nL 269.611076 126.5982 \nL 270.636957 128.764177 \nL 270.916328 129.325727 \nL 271.036243 129.646612 \nL 271.597952 131.251039 \nL 271.732617 131.331261 \nL 271.972005 131.692257 \nL 272.048189 131.8527 \nL 272.200791 132.053253 \nL 272.316071 132.334028 \nL 272.416275 132.494471 \nL 274.632335 138.310519 \nL 274.736981 138.470962 \nL 274.958695 138.872069 \nL 275.112725 139.192954 \nL 276.054853 141.559484 \nL 276.213598 141.760038 \nL 276.659845 142.843026 \nL 276.693705 142.923248 \nL 277.050805 143.885904 \nL 277.212245 144.206789 \nL 278.621336 147.255201 \nL 279.219096 148.659075 \nL 279.535866 149.180514 \nL 279.699726 149.701953 \nL 280.801758 151.627265 \nL 280.871905 151.707487 \nL 280.976247 152.068483 \nL 281.052946 152.148704 \nL 281.297271 152.790475 \nL 281.487243 153.11136 \nL 281.826068 153.793242 \nL 282.013917 154.234459 \nL 282.141188 154.475124 \nL 282.228544 154.675677 \nL 282.445158 154.956452 \nL 282.557207 155.277337 \nL 282.701758 155.357559 \nL 282.809058 155.598223 \nL 282.999951 155.919108 \nL 283.159216 156.320215 \nL 283.297957 156.681211 \nL 283.426618 156.881764 \nL 283.553909 156.961986 \nL 283.891152 157.282871 \nL 284.268227 157.964753 \nL 284.428552 158.446081 \nL 284.547371 158.686745 \nL 284.644756 158.927409 \nL 284.730182 159.127963 \nL 284.808558 159.288405 \nL 285.166039 159.769733 \nL 285.360855 160.210951 \nL 285.524303 160.371394 \nL 285.655671 160.571947 \nL 285.779123 160.73239 \nL 286.044081 161.293939 \nL 286.411556 161.815378 \nL 286.534279 161.93571 \nL 286.92667 162.53737 \nL 287.033636 162.898367 \nL 287.229468 163.09892 \nL 287.348866 163.259363 \nL 287.507197 163.580248 \nL 287.653872 163.780801 \nL 287.758794 164.021466 \nL 287.847776 164.141798 \nL 288.11266 164.342351 \nL 288.245942 164.703347 \nL 288.486236 164.903901 \nL 288.760831 165.505561 \nL 289.213216 166.428106 \nL 289.429604 167.029767 \nL 289.68288 167.390763 \nL 289.815539 167.751759 \nL 289.851796 167.83198 \nL 290.194905 168.39353 \nL 290.259489 168.43364 \nL 290.535954 168.674305 \nL 290.632939 168.874858 \nL 290.781027 169.195743 \nL 291.006215 169.436407 \nL 291.52513 170.399064 \nL 291.609248 170.719949 \nL 291.695919 170.880392 \nL 291.788115 171.241388 \nL 291.876594 171.522163 \nL 291.962067 171.602384 \nL 292.548852 172.324376 \nL 292.625835 172.404598 \nL 292.730579 172.645262 \nL 293.089543 173.046369 \nL 293.138566 173.206811 \nL 293.334864 173.367254 \nL 293.458704 173.447476 \nL 293.653534 173.848582 \nL 293.914413 174.370021 \nL 294.042901 174.610685 \nL 294.162859 174.851349 \nL 294.319717 175.132124 \nL 294.4134 175.412899 \nL 294.494116 175.653563 \nL 295.083367 176.576109 \nL 295.351539 176.856883 \nL 296.130929 178.060204 \nL 296.532387 178.621753 \nL 296.672735 178.822307 \nL 296.797983 179.103082 \nL 296.947005 179.183303 \nL 296.988953 179.343746 \nL 297.152859 179.504188 \nL 297.297174 180.145959 \nL 297.525781 180.386623 \nL 298.107542 180.867951 \nL 298.158911 181.028394 \nL 298.226231 181.108616 \nL 298.327863 181.188837 \nL 298.504405 181.34928 \nL 298.545258 181.469612 \nL 298.841863 181.710276 \nL 298.918989 181.870718 \nL 299.065569 182.071272 \nL 299.095476 182.151493 \nL 299.354512 182.352047 \nL 299.476724 182.512489 \nL 299.763107 182.713043 \nL 299.891958 183.074039 \nL 299.952347 183.15426 \nL 300.139998 183.234482 \nL 300.252918 183.475146 \nL 300.383782 183.675699 \nL 300.64999 183.996585 \nL 300.80597 184.157027 \nL 301.010804 184.518023 \nL 301.181315 184.678466 \nL 301.256038 184.798798 \nL 301.455452 184.959241 \nL 301.614112 185.240016 \nL 301.887778 185.761454 \nL 302.10545 186.002119 \nL 302.198802 186.122451 \nL 303.002477 187.085107 \nL 303.199407 187.24555 \nL 304.123128 188.529091 \nL 304.24427 188.689534 \nL 304.627211 189.130752 \nL 304.736732 189.411526 \nL 304.994616 189.491748 \nL 305.245514 189.772523 \nL 305.36513 189.852744 \nL 305.710238 190.21374 \nL 305.83741 190.334072 \nL 306.279193 191.096175 \nL 306.348202 191.176396 \nL 306.469175 191.37695 \nL 306.519102 191.497282 \nL 306.767933 191.697835 \nL 306.85148 191.938499 \nL 307.052775 192.139053 \nL 307.158987 192.259385 \nL 308.022998 193.101709 \nL 308.103926 193.342373 \nL 308.335283 193.583037 \nL 308.607279 193.944033 \nL 308.929154 194.144587 \nL 309.336795 194.625915 \nL 309.393764 194.706136 \nL 309.701935 194.786358 \nL 309.705622 194.826468 \nL 310.095714 195.067132 \nL 310.098588 195.147354 \nL 310.327065 195.307797 \nL 310.521127 195.628682 \nL 310.706808 195.829235 \nL 312.321835 197.714437 \nL 312.582813 198.155655 \nL 312.803789 198.396319 \nL 312.865047 198.47654 \nL 313.113544 198.677094 \nL 313.218083 198.877647 \nL 313.91295 199.63975 \nL 314.035916 199.760082 \nL 314.617772 200.24141 \nL 314.705061 200.562296 \nL 314.908978 200.722738 \nL 315.005341 201.043624 \nL 315.461903 201.40462 \nL 315.582908 201.605173 \nL 316.026248 201.966169 \nL 316.240087 202.166723 \nL 316.341481 202.327166 \nL 316.80082 202.487608 \nL 317.02609 202.808494 \nL 317.666015 203.329933 \nL 317.772586 203.490375 \nL 317.89454 203.650818 \nL 318.079862 203.891482 \nL 318.190205 204.092036 \nL 318.229999 204.172257 \nL 318.5689 204.3327 \nL 319.404877 204.974471 \nL 319.835532 205.255245 \nL 320.076876 205.495909 \nL 320.923356 205.937127 \nL 320.990338 206.017348 \nL 321.242854 206.217902 \nL 321.373777 206.298123 \nL 322.243392 207.060226 \nL 322.581687 207.260779 \nL 322.61368 207.341001 \nL 323.331123 207.782218 \nL 323.562815 207.942661 \nL 324.104318 208.383878 \nL 324.629635 209.025649 \nL 324.756092 209.105871 \nL 324.876403 209.306424 \nL 325.20765 209.426756 \nL 325.342896 209.66742 \nL 326.08486 210.26908 \nL 326.626758 210.509744 \nL 328.269419 211.632844 \nL 328.73079 212.074061 \nL 329.338062 212.635611 \nL 329.689467 212.796053 \nL 330.403289 213.116939 \nL 330.628712 213.237271 \nL 331.164358 213.397713 \nL 331.379271 213.638378 \nL 331.509852 213.838931 \nL 331.942003 213.999374 \nL 332.048195 214.199927 \nL 333.883949 214.921919 \nL 333.890286 214.96203 \nL 334.357716 215.122473 \nL 334.429237 215.202694 \nL 335.165178 215.56369 \nL 335.492358 215.764244 \nL 336.17472 216.045018 \nL 336.246335 216.12524 \nL 336.684405 216.446125 \nL 336.937995 216.526347 \nL 337.996033 217.248339 \nL 338.857107 217.408782 \nL 339.106209 217.569224 \nL 339.613687 217.769778 \nL 339.801157 217.89011 \nL 340.526181 218.170884 \nL 340.87106 218.291217 \nL 341.199917 218.451659 \nL 341.34274 218.571991 \nL 341.957028 218.772545 \nL 342.077323 218.892877 \nL 342.499616 219.09343 \nL 342.926612 219.334094 \nL 342.998398 219.414316 \nL 343.3107 219.614869 \nL 343.356813 219.69509 \nL 344.811067 220.136308 \nL 344.816314 220.216529 \nL 347.200561 221.058854 \nL 348.11608 221.379739 \nL 348.271456 221.41985 \nL 349.347816 221.580292 \nL 349.410189 221.660514 \nL 352.942533 222.743502 \nL 353.909758 222.944055 \nL 355.044574 223.22483 \nL 355.257383 223.385273 \nL 356.676221 223.82649 \nL 356.688325 223.866601 \nL 358.708572 224.227597 \nL 358.726095 224.267708 \nL 360.38474 224.668815 \nL 360.395267 224.708925 \nL 360.805639 224.909479 \nL 360.822979 224.94959 \nL 361.305572 225.069922 \nL 362.342615 225.230364 \nL 363.488086 225.471028 \nL 363.626639 225.55125 \nL 364.192727 225.832025 \nL 364.707888 225.952357 \nL 364.733994 225.992467 \nL 366.176085 226.15291 \nL 372.836245 226.634238 \nL 372.859872 226.674349 \nL 380.539036 227.396341 \nL 381.944766 227.516673 \nL 382.022607 227.556784 \nL 383.938465 227.596894 \nL 391.326612 227.757337 \nL 398.149515 227.998001 \nL 441.755597 228.358997 \nL 474.009703 228.399108 \nL 474.009703 228.399108 \n\" style=\"fill:none;stroke:#008000;stroke-dasharray:5.55,2.4;stroke-dashoffset:0;stroke-width:1.5;\"/>\n   </g>\n   <g id=\"line2d_25\">\n    <path clip-path=\"url(#pde61d3f3bd)\" d=\"M 268.346892 228.439219 \nL 268.346892 32.743219 \n\" style=\"fill:none;stroke:#ff0000;stroke-dasharray:1.5,2.475;stroke-dashoffset:0;stroke-width:1.5;\"/>\n   </g>\n   <g id=\"line2d_26\">\n    <path clip-path=\"url(#pde61d3f3bd)\" d=\"M 30.103125 32.743219 \nL 268.346892 32.743219 \n\" style=\"fill:none;stroke:#ff0000;stroke-dasharray:1.5,2.475;stroke-dashoffset:0;stroke-width:1.5;\"/>\n   </g>\n   <g id=\"line2d_27\">\n    <path clip-path=\"url(#pde61d3f3bd)\" d=\"M 30.103125 124.071228 \nL 268.346892 124.071228 \n\" style=\"fill:none;stroke:#ff0000;stroke-dasharray:1.5,2.475;stroke-dashoffset:0;stroke-width:1.5;\"/>\n   </g>\n   <g id=\"line2d_28\">\n    <defs>\n     <path d=\"M 0 3 \nC 0.795609 3 1.55874 2.683901 2.12132 2.12132 \nC 2.683901 1.55874 3 0.795609 3 0 \nC 3 -0.795609 2.683901 -1.55874 2.12132 -2.12132 \nC 1.55874 -2.683901 0.795609 -3 0 -3 \nC -0.795609 -3 -1.55874 -2.683901 -2.12132 -2.12132 \nC -2.683901 -1.55874 -3 -0.795609 -3 0 \nC -3 0.795609 -2.683901 1.55874 -2.12132 2.12132 \nC -1.55874 2.683901 -0.795609 3 0 3 \nz\n\" id=\"m5038bb5e98\" style=\"stroke:#ff0000;\"/>\n    </defs>\n    <g clip-path=\"url(#pde61d3f3bd)\">\n     <use style=\"fill:#ff0000;stroke:#ff0000;\" x=\"268.346892\" xlink:href=\"#m5038bb5e98\" y=\"32.743219\"/>\n    </g>\n   </g>\n   <g id=\"line2d_29\">\n    <g clip-path=\"url(#pde61d3f3bd)\">\n     <use style=\"fill:#ff0000;stroke:#ff0000;\" x=\"268.346892\" xlink:href=\"#m5038bb5e98\" y=\"124.071228\"/>\n    </g>\n   </g>\n   <g id=\"patch_3\">\n    <path d=\"M 30.103125 228.439219 \nL 30.103125 10.999219 \n\" style=\"fill:none;stroke:#000000;stroke-linecap:square;stroke-linejoin:miter;stroke-width:0.8;\"/>\n   </g>\n   <g id=\"patch_4\">\n    <path d=\"M 476.503125 228.439219 \nL 476.503125 10.999219 \n\" style=\"fill:none;stroke:#000000;stroke-linecap:square;stroke-linejoin:miter;stroke-width:0.8;\"/>\n   </g>\n   <g id=\"patch_5\">\n    <path d=\"M 30.103125 228.439219 \nL 476.503125 228.439219 \n\" style=\"fill:none;stroke:#000000;stroke-linecap:square;stroke-linejoin:miter;stroke-width:0.8;\"/>\n   </g>\n   <g id=\"patch_6\">\n    <path d=\"M 30.103125 10.999219 \nL 476.503125 10.999219 \n\" style=\"fill:none;stroke:#000000;stroke-linecap:square;stroke-linejoin:miter;stroke-width:0.8;\"/>\n   </g>\n   <g id=\"legend_1\">\n    <g id=\"patch_7\">\n     <path d=\"M 341.930625 145.604219 \nL 465.303125 145.604219 \nQ 468.503125 145.604219 468.503125 142.404219 \nL 468.503125 97.034219 \nQ 468.503125 93.834219 465.303125 93.834219 \nL 341.930625 93.834219 \nQ 338.730625 93.834219 338.730625 97.034219 \nL 338.730625 142.404219 \nQ 338.730625 145.604219 341.930625 145.604219 \nz\n\" style=\"fill:#ffffff;opacity:0.8;stroke:#cccccc;stroke-linejoin:miter;\"/>\n    </g>\n    <g id=\"line2d_30\">\n     <path d=\"M 345.130625 106.791719 \nL 377.130625 106.791719 \n\" style=\"fill:none;stroke:#0000ff;stroke-dasharray:5.55,2.4;stroke-dashoffset:0;stroke-width:1.5;\"/>\n    </g>\n    <g id=\"line2d_31\"/>\n    <g id=\"text_13\">\n     <!-- precision -->\n     <g transform=\"translate(389.930625 112.391719)scale(0.16 -0.16)\">\n      <defs>\n       <path d=\"M 18.109375 8.203125 \nL 18.109375 -20.796875 \nL 9.078125 -20.796875 \nL 9.078125 54.6875 \nL 18.109375 54.6875 \nL 18.109375 46.390625 \nQ 20.953125 51.265625 25.265625 53.625 \nQ 29.59375 56 35.59375 56 \nQ 45.5625 56 51.78125 48.09375 \nQ 58.015625 40.1875 58.015625 27.296875 \nQ 58.015625 14.40625 51.78125 6.484375 \nQ 45.5625 -1.421875 35.59375 -1.421875 \nQ 29.59375 -1.421875 25.265625 0.953125 \nQ 20.953125 3.328125 18.109375 8.203125 \nz\nM 48.6875 27.296875 \nQ 48.6875 37.203125 44.609375 42.84375 \nQ 40.53125 48.484375 33.40625 48.484375 \nQ 26.265625 48.484375 22.1875 42.84375 \nQ 18.109375 37.203125 18.109375 27.296875 \nQ 18.109375 17.390625 22.1875 11.75 \nQ 26.265625 6.109375 33.40625 6.109375 \nQ 40.53125 6.109375 44.609375 11.75 \nQ 48.6875 17.390625 48.6875 27.296875 \nz\n\" id=\"DejaVuSans-112\"/>\n       <path d=\"M 48.78125 52.59375 \nL 48.78125 44.1875 \nQ 44.96875 46.296875 41.140625 47.34375 \nQ 37.3125 48.390625 33.40625 48.390625 \nQ 24.65625 48.390625 19.8125 42.84375 \nQ 14.984375 37.3125 14.984375 27.296875 \nQ 14.984375 17.28125 19.8125 11.734375 \nQ 24.65625 6.203125 33.40625 6.203125 \nQ 37.3125 6.203125 41.140625 7.25 \nQ 44.96875 8.296875 48.78125 10.40625 \nL 48.78125 2.09375 \nQ 45.015625 0.34375 40.984375 -0.53125 \nQ 36.96875 -1.421875 32.421875 -1.421875 \nQ 20.0625 -1.421875 12.78125 6.34375 \nQ 5.515625 14.109375 5.515625 27.296875 \nQ 5.515625 40.671875 12.859375 48.328125 \nQ 20.21875 56 33.015625 56 \nQ 37.15625 56 41.109375 55.140625 \nQ 45.0625 54.296875 48.78125 52.59375 \nz\n\" id=\"DejaVuSans-99\"/>\n       <path d=\"M 9.421875 54.6875 \nL 18.40625 54.6875 \nL 18.40625 0 \nL 9.421875 0 \nz\nM 9.421875 75.984375 \nL 18.40625 75.984375 \nL 18.40625 64.59375 \nL 9.421875 64.59375 \nz\n\" id=\"DejaVuSans-105\"/>\n       <path d=\"M 54.890625 33.015625 \nL 54.890625 0 \nL 45.90625 0 \nL 45.90625 32.71875 \nQ 45.90625 40.484375 42.875 44.328125 \nQ 39.84375 48.1875 33.796875 48.1875 \nQ 26.515625 48.1875 22.3125 43.546875 \nQ 18.109375 38.921875 18.109375 30.90625 \nL 18.109375 0 \nL 9.078125 0 \nL 9.078125 54.6875 \nL 18.109375 54.6875 \nL 18.109375 46.1875 \nQ 21.34375 51.125 25.703125 53.5625 \nQ 30.078125 56 35.796875 56 \nQ 45.21875 56 50.046875 50.171875 \nQ 54.890625 44.34375 54.890625 33.015625 \nz\n\" id=\"DejaVuSans-110\"/>\n      </defs>\n      <use xlink:href=\"#DejaVuSans-112\"/>\n      <use x=\"63.476562\" xlink:href=\"#DejaVuSans-114\"/>\n      <use x=\"102.339844\" xlink:href=\"#DejaVuSans-101\"/>\n      <use x=\"163.863281\" xlink:href=\"#DejaVuSans-99\"/>\n      <use x=\"218.84375\" xlink:href=\"#DejaVuSans-105\"/>\n      <use x=\"246.626953\" xlink:href=\"#DejaVuSans-115\"/>\n      <use x=\"298.726562\" xlink:href=\"#DejaVuSans-105\"/>\n      <use x=\"326.509766\" xlink:href=\"#DejaVuSans-111\"/>\n      <use x=\"387.691406\" xlink:href=\"#DejaVuSans-110\"/>\n     </g>\n    </g>\n    <g id=\"line2d_32\">\n     <path d=\"M 345.130625 130.276719 \nL 377.130625 130.276719 \n\" style=\"fill:none;stroke:#008000;stroke-dasharray:5.55,2.4;stroke-dashoffset:0;stroke-width:1.5;\"/>\n    </g>\n    <g id=\"line2d_33\"/>\n    <g id=\"text_14\">\n     <!--  recall -->\n     <g transform=\"translate(389.930625 135.876719)scale(0.16 -0.16)\">\n      <defs>\n       <path id=\"DejaVuSans-32\"/>\n       <path d=\"M 34.28125 27.484375 \nQ 23.390625 27.484375 19.1875 25 \nQ 14.984375 22.515625 14.984375 16.5 \nQ 14.984375 11.71875 18.140625 8.90625 \nQ 21.296875 6.109375 26.703125 6.109375 \nQ 34.1875 6.109375 38.703125 11.40625 \nQ 43.21875 16.703125 43.21875 25.484375 \nL 43.21875 27.484375 \nz\nM 52.203125 31.203125 \nL 52.203125 0 \nL 43.21875 0 \nL 43.21875 8.296875 \nQ 40.140625 3.328125 35.546875 0.953125 \nQ 30.953125 -1.421875 24.3125 -1.421875 \nQ 15.921875 -1.421875 10.953125 3.296875 \nQ 6 8.015625 6 15.921875 \nQ 6 25.140625 12.171875 29.828125 \nQ 18.359375 34.515625 30.609375 34.515625 \nL 43.21875 34.515625 \nL 43.21875 35.40625 \nQ 43.21875 41.609375 39.140625 45 \nQ 35.0625 48.390625 27.6875 48.390625 \nQ 23 48.390625 18.546875 47.265625 \nQ 14.109375 46.140625 10.015625 43.890625 \nL 10.015625 52.203125 \nQ 14.9375 54.109375 19.578125 55.046875 \nQ 24.21875 56 28.609375 56 \nQ 40.484375 56 46.34375 49.84375 \nQ 52.203125 43.703125 52.203125 31.203125 \nz\n\" id=\"DejaVuSans-97\"/>\n      </defs>\n      <use xlink:href=\"#DejaVuSans-32\"/>\n      <use x=\"31.787109\" xlink:href=\"#DejaVuSans-114\"/>\n      <use x=\"70.650391\" xlink:href=\"#DejaVuSans-101\"/>\n      <use x=\"132.173828\" xlink:href=\"#DejaVuSans-99\"/>\n      <use x=\"187.154297\" xlink:href=\"#DejaVuSans-97\"/>\n      <use x=\"248.433594\" xlink:href=\"#DejaVuSans-108\"/>\n      <use x=\"276.216797\" xlink:href=\"#DejaVuSans-108\"/>\n     </g>\n    </g>\n   </g>\n  </g>\n </g>\n <defs>\n  <clipPath id=\"pde61d3f3bd\">\n   <rect height=\"217.44\" width=\"446.4\" x=\"30.103125\" y=\"10.999219\"/>\n  </clipPath>\n </defs>\n</svg>\n",
      "image/png": "[encoded data removed]"
     },
     "metadata": {
      "needs_background": "light"
     }
    }
   ],
   "source": [
    "recall_90_precision = recalls[np.argmax(precisions >= 0.90)]\n",
    "threshold_90_precision = thresholds[np.argmax(precisions >= 0.90)]\n",
    "\n",
    "plt.figure(figsize=(8, 4))\n",
    "plot_precision_recall_vs_threshold(precisions, recalls, thresholds)\n",
    "plt.plot([threshold_90_precision, threshold_90_precision], [0., 0.9], 'r:')\n",
    "plt.plot([-50000, threshold_90_precision], [0.9, 0.9], 'r:')\n",
    "plt.plot([-50000, threshold_90_precision], [recall_90_precision, recall_90_precision], \"r:\")\n",
    "plt.plot([threshold_90_precision], [0.9], 'ro')\n",
    "plt.plot([threshold_90_precision], [recall_90_precision], 'ro')\n",
    "plt.show()"
   ]
  },
  {
   "cell_type": "code",
   "execution_count": 42,
   "metadata": {},
   "outputs": [],
   "source": [
    "# RandomForestClassifier와 SGDClassifier의 roc곡선과 roc-auc 점수 비교 => 곡선 비교는 그래프라 안함\n",
    "# 랜덤포레스트는 decision_function()메서드가 없고 predict_proba()가 존재\n",
    "\n",
    "\n",
    "from sklearn.ensemble import RandomForestClassifier\n",
    "\n",
    "forest_clf = RandomForestClassifier(random_state=42)\n",
    "y_probas_forest = cross_val_predict(forest_clf, X_train, y_train_5, cv = 3, method='predict_proba')\n"
   ]
  },
  {
   "cell_type": "code",
   "execution_count": 48,
   "metadata": {},
   "outputs": [
    {
     "output_type": "stream",
     "name": "stdout",
     "text": [
      "0.9604938554008616\n0.9983436731328145\n"
     ]
    }
   ],
   "source": [
    "from sklearn.metrics import roc_auc_score\n",
    "\n",
    "print(roc_auc_score(y_train_5, y_scores))\n",
    "print(roc_auc_score(y_train_5, y_scores_forest))\n",
    "\n"
   ]
  },
  {
   "source": [
    "###다중 분류###\n",
    "\n",
    "이미지 분류지 각 분류기의 결정 점수 중에서 가장 높은 것을 클래스로 선택 OvR, OvA라고 함(one-versus-the-rest, one-versus-all)\n",
    "\n",
    "\n",
    "OvO : one-versus-one 전략, 비교할 클래스를 모든 클래스와 각각 모두 비교, 장점 : 훈련세트에 필요한 두개의 세트만 있으면 됨"
   ],
   "cell_type": "markdown",
   "metadata": {}
  },
  {
   "cell_type": "code",
   "execution_count": 49,
   "metadata": {},
   "outputs": [
    {
     "output_type": "execute_result",
     "data": {
      "text/plain": [
       "array([5], dtype=uint8)"
      ]
     },
     "metadata": {},
     "execution_count": 49
    }
   ],
   "source": [
    "from sklearn.svm import SVC\n",
    "\n",
    "svm_clf = SVC()\n",
    "svm_clf.fit(X_train, y_train)\n",
    "svm_clf.predict([some_digit])\n",
    "\n"
   ]
  },
  {
   "cell_type": "code",
   "execution_count": 50,
   "metadata": {},
   "outputs": [
    {
     "output_type": "execute_result",
     "data": {
      "text/plain": [
       "array([[ 1.72501977,  2.72809088,  7.2510018 ,  8.3076379 , -0.31087254,\n",
       "         9.3132482 ,  1.70975103,  2.76765202,  6.23049537,  4.84771048]])"
      ]
     },
     "metadata": {},
     "execution_count": 50
    }
   ],
   "source": [
    "some_digit_scores = svm_clf.decision_function([some_digit])\n",
    "some_digit_scores"
   ]
  },
  {
   "cell_type": "code",
   "execution_count": 51,
   "metadata": {},
   "outputs": [
    {
     "output_type": "execute_result",
     "data": {
      "text/plain": [
       "5"
      ]
     },
     "metadata": {},
     "execution_count": 51
    }
   ],
   "source": [
    "np.argmax(some_digit_scores)"
   ]
  },
  {
   "cell_type": "code",
   "execution_count": 52,
   "metadata": {},
   "outputs": [
    {
     "output_type": "execute_result",
     "data": {
      "text/plain": [
       "array([0, 1, 2, 3, 4, 5, 6, 7, 8, 9], dtype=uint8)"
      ]
     },
     "metadata": {},
     "execution_count": 52
    }
   ],
   "source": [
    "svm_clf.classes_"
   ]
  },
  {
   "cell_type": "code",
   "execution_count": 57,
   "metadata": {},
   "outputs": [
    {
     "output_type": "execute_result",
     "data": {
      "text/plain": [
       "5"
      ]
     },
     "metadata": {},
     "execution_count": 57
    }
   ],
   "source": [
    "svm_clf.classes_[5]\n",
    "# svm_clf에서 클래스 값과 인덱스 값이 같은 경우는 드뭄"
   ]
  },
  {
   "cell_type": "code",
   "execution_count": 12,
   "metadata": {},
   "outputs": [
    {
     "output_type": "execute_result",
     "data": {
      "text/plain": [
       "array(['5'], dtype='<U1')"
      ]
     },
     "metadata": {},
     "execution_count": 12
    }
   ],
   "source": [
    "# SVC기반으로 OvR전략을 사용하는 다중 분류기 만들기\n",
    "\n",
    "from sklearn.multiclass import OneVsRestClassifier\n",
    "from sklearn.svm import SVC\n",
    "\n",
    "ovr_clf = OneVsRestClassifier(SVC())\n",
    "ovr_clf.fit(X_train, y_train)\n",
    "ovr_clf.predict([some_digit])\n",
    "\n",
    "\n"
   ]
  },
  {
   "cell_type": "code",
   "execution_count": null,
   "metadata": {},
   "outputs": [],
   "source": []
  }
 ]
}